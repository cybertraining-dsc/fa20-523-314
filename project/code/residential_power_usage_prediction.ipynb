{
  "nbformat": 4,
  "nbformat_minor": 0,
  "metadata": {
    "accelerator": "GPU",
    "colab": {
      "name": "residential_power_usage_prediction.ipynb",
      "provenance": [],
      "collapsed_sections": []
    },
    "kernelspec": {
      "display_name": "Python 3",
      "name": "python3"
    }
  },
  "cells": [
    {
      "cell_type": "markdown",
      "metadata": {
        "id": "qUUe-L6AvNdx"
      },
      "source": [
        "# Residential Power Usage Prediction"
      ]
    },
    {
      "cell_type": "code",
      "metadata": {
        "id": "07XDnUUGeCZL",
        "colab": {
          "base_uri": "https://localhost:8080/"
        },
        "outputId": "1fdee354-67f7-4dd6-958e-b1d4ec6e9fd6"
      },
      "source": [
        "import os\n",
        "import zipfile\n",
        "import numpy as np\n",
        "import pandas as pd\n",
        "import seaborn as sns\n",
        "from google.colab import drive\n",
        "import matplotlib.pyplot as plt\n",
        "\n",
        "#! pip install cloudmesh-common -U\n",
        "from cloudmesh.common.StopWatch import StopWatch\n",
        "\n",
        "# Misc\n",
        "import warnings\n",
        "warnings.filterwarnings('ignore')"
      ],
      "execution_count": 1,
      "outputs": [
        {
          "output_type": "stream",
          "text": [
            "Collecting cloudmesh-common\n",
            "\u001b[?25l  Downloading https://files.pythonhosted.org/packages/ba/a8/a01b2ef13709120a47311c17631d80acff89ac6afe01f4f0046ec70668c3/cloudmesh_common-4.3.26-py2.py3-none-any.whl (76kB)\n",
            "\r\u001b[K     |████▎                           | 10kB 21.7MB/s eta 0:00:01\r\u001b[K     |████████▋                       | 20kB 29.2MB/s eta 0:00:01\r\u001b[K     |████████████▉                   | 30kB 32.7MB/s eta 0:00:01\r\u001b[K     |█████████████████▏              | 40kB 22.8MB/s eta 0:00:01\r\u001b[K     |█████████████████████▍          | 51kB 16.0MB/s eta 0:00:01\r\u001b[K     |█████████████████████████▊      | 61kB 14.7MB/s eta 0:00:01\r\u001b[K     |██████████████████████████████  | 71kB 13.8MB/s eta 0:00:01\r\u001b[K     |████████████████████████████████| 81kB 6.9MB/s \n",
            "\u001b[?25hCollecting simplejson\n",
            "\u001b[?25l  Downloading https://files.pythonhosted.org/packages/73/96/1e6b19045375890068d7342cbe280dd64ae73fd90b9735b5efb8d1e044a1/simplejson-3.17.2-cp36-cp36m-manylinux2010_x86_64.whl (127kB)\n",
            "\r\u001b[K     |██▋                             | 10kB 26.6MB/s eta 0:00:01\r\u001b[K     |█████▏                          | 20kB 35.3MB/s eta 0:00:01\r\u001b[K     |███████▊                        | 30kB 22.7MB/s eta 0:00:01\r\u001b[K     |██████████▎                     | 40kB 26.9MB/s eta 0:00:01\r\u001b[K     |████████████▉                   | 51kB 21.7MB/s eta 0:00:01\r\u001b[K     |███████████████▍                | 61kB 18.7MB/s eta 0:00:01\r\u001b[K     |██████████████████              | 71kB 16.8MB/s eta 0:00:01\r\u001b[K     |████████████████████▌           | 81kB 17.0MB/s eta 0:00:01\r\u001b[K     |███████████████████████         | 92kB 18.4MB/s eta 0:00:01\r\u001b[K     |█████████████████████████▋      | 102kB 19.6MB/s eta 0:00:01\r\u001b[K     |████████████████████████████▏   | 112kB 19.6MB/s eta 0:00:01\r\u001b[K     |██████████████████████████████▊ | 122kB 19.6MB/s eta 0:00:01\r\u001b[K     |████████████████████████████████| 133kB 19.6MB/s \n",
            "\u001b[?25hCollecting oyaml\n",
            "  Downloading https://files.pythonhosted.org/packages/37/aa/111610d8bf5b1bb7a295a048fc648cec346347a8b0be5881defd2d1b4a52/oyaml-1.0-py2.py3-none-any.whl\n",
            "Requirement already satisfied, skipping upgrade: pathlib in /usr/local/lib/python3.6/dist-packages (from cloudmesh-common) (1.0.1)\n",
            "Requirement already satisfied, skipping upgrade: python-dateutil in /usr/local/lib/python3.6/dist-packages (from cloudmesh-common) (2.8.1)\n",
            "Requirement already satisfied, skipping upgrade: tabulate in /usr/local/lib/python3.6/dist-packages (from cloudmesh-common) (0.8.7)\n",
            "Requirement already satisfied, skipping upgrade: pytz in /usr/local/lib/python3.6/dist-packages (from cloudmesh-common) (2018.9)\n",
            "Requirement already satisfied, skipping upgrade: psutil in /usr/local/lib/python3.6/dist-packages (from cloudmesh-common) (5.4.8)\n",
            "Requirement already satisfied, skipping upgrade: humanize in /usr/local/lib/python3.6/dist-packages (from cloudmesh-common) (0.5.1)\n",
            "Requirement already satisfied, skipping upgrade: requests in /usr/local/lib/python3.6/dist-packages (from cloudmesh-common) (2.23.0)\n",
            "Collecting colorama\n",
            "  Downloading https://files.pythonhosted.org/packages/44/98/5b86278fbbf250d239ae0ecb724f8572af1c91f4a11edf4d36a206189440/colorama-0.4.4-py2.py3-none-any.whl\n",
            "Collecting python-hostlist\n",
            "  Downloading https://files.pythonhosted.org/packages/2b/4f/f31dd4b4bf1a57a5c29599e1165d0df70dbdddcfa59a7c1d04ee2ff4ccbd/python-hostlist-1.21.tar.gz\n",
            "Requirement already satisfied, skipping upgrade: pyyaml in /usr/local/lib/python3.6/dist-packages (from oyaml->cloudmesh-common) (3.13)\n",
            "Requirement already satisfied, skipping upgrade: six>=1.5 in /usr/local/lib/python3.6/dist-packages (from python-dateutil->cloudmesh-common) (1.15.0)\n",
            "Requirement already satisfied, skipping upgrade: certifi>=2017.4.17 in /usr/local/lib/python3.6/dist-packages (from requests->cloudmesh-common) (2020.11.8)\n",
            "Requirement already satisfied, skipping upgrade: chardet<4,>=3.0.2 in /usr/local/lib/python3.6/dist-packages (from requests->cloudmesh-common) (3.0.4)\n",
            "Requirement already satisfied, skipping upgrade: idna<3,>=2.5 in /usr/local/lib/python3.6/dist-packages (from requests->cloudmesh-common) (2.10)\n",
            "Requirement already satisfied, skipping upgrade: urllib3!=1.25.0,!=1.25.1,<1.26,>=1.21.1 in /usr/local/lib/python3.6/dist-packages (from requests->cloudmesh-common) (1.24.3)\n",
            "Building wheels for collected packages: python-hostlist\n",
            "  Building wheel for python-hostlist (setup.py) ... \u001b[?25l\u001b[?25hdone\n",
            "  Created wheel for python-hostlist: filename=python_hostlist-1.21-cp36-none-any.whl size=38932 sha256=a019956558b3b076acbce608939f254493ec5dae07a75b0dc4c522973e3bcced\n",
            "  Stored in directory: /root/.cache/pip/wheels/0b/5b/55/ddcf52288f0b10f4564ca1b2531594ff7ccc65f487ba8dc437\n",
            "Successfully built python-hostlist\n",
            "Installing collected packages: simplejson, oyaml, colorama, python-hostlist, cloudmesh-common\n",
            "Successfully installed cloudmesh-common-4.3.26 colorama-0.4.4 oyaml-1.0 python-hostlist-1.21 simplejson-3.17.2\n"
          ],
          "name": "stdout"
        }
      ]
    },
    {
      "cell_type": "code",
      "metadata": {
        "colab": {
          "base_uri": "https://localhost:8080/"
        },
        "id": "zbe-TgkDmrB0",
        "outputId": "afb7a6ec-0b65-4a53-8630-2c14564f6227"
      },
      "source": [
        "drive.mount('/content/drive', force_remount=True)\n"
      ],
      "execution_count": 3,
      "outputs": [
        {
          "output_type": "stream",
          "text": [
            "Mounted at /content/drive\n"
          ],
          "name": "stdout"
        }
      ]
    },
    {
      "cell_type": "code",
      "metadata": {
        "colab": {
          "base_uri": "https://localhost:8080/"
        },
        "id": "qMCJGlphxGIy",
        "outputId": "fbfd1ba4-e172-4b7e-a108-80a87784e5f9"
      },
      "source": [
        "%cd /content/drive/My Drive/BigData_Project/Data"
      ],
      "execution_count": 4,
      "outputs": [
        {
          "output_type": "stream",
          "text": [
            "/content/drive/My Drive/BigData_Project/Data\n"
          ],
          "name": "stdout"
        }
      ]
    },
    {
      "cell_type": "markdown",
      "metadata": {
        "id": "ISK_yCHe-QY3"
      },
      "source": [
        "## Download datasets"
      ]
    },
    {
      "cell_type": "code",
      "metadata": {
        "id": "962rhRQInPK-"
      },
      "source": [
        "#!pip install kaggle"
      ],
      "execution_count": 5,
      "outputs": []
    },
    {
      "cell_type": "code",
      "metadata": {
        "id": "wUVqxZAq4sPe",
        "colab": {
          "base_uri": "https://localhost:8080/"
        },
        "outputId": "c14f39b7-caaa-4cae-d037-04d403ecaab9"
      },
      "source": [
        "if not os.path.exists('residential-power-usage-3years-data-timeseries.zip'):\n",
        "  StopWatch.start(\"Data download\")\n",
        "  os.environ['KAGGLE_CONFIG_DIR'] = \"/content/drive/My Drive/BigData_Project\" # put path for wherever you put it\n",
        "  !mkdir ~/.kaggle\n",
        "  !cp /content/drive/'My Drive'/BigData_Project/kaggle.json ~/.kaggle\n",
        "  !chmod 600 ~/.kaggle/kaggle.json\n",
        "  !kaggle datasets download -d srinuti/residential-power-usage-3years-data-timeseries\n",
        "  StopWatch.stop(\"Data download\")\n",
        "  StopWatch.status(\"Data download\", True)"
      ],
      "execution_count": 6,
      "outputs": [
        {
          "output_type": "stream",
          "text": [
            "Downloading residential-power-usage-3years-data-timeseries.zip to /content/drive/My Drive/BigData_Project/Data\n",
            "\r  0% 0.00/227k [00:00<?, ?B/s]\n",
            "\r100% 227k/227k [00:00<00:00, 31.0MB/s]\n"
          ],
          "name": "stdout"
        }
      ]
    },
    {
      "cell_type": "markdown",
      "metadata": {
        "id": "pNeY-b2OJb2e"
      },
      "source": [
        "## Load datasets"
      ]
    },
    {
      "cell_type": "code",
      "metadata": {
        "id": "wTP9VUHHB8CB"
      },
      "source": [
        "data_path = os.getcwd()"
      ],
      "execution_count": 7,
      "outputs": []
    },
    {
      "cell_type": "code",
      "metadata": {
        "id": "6cQlj9yO9AMP"
      },
      "source": [
        "\n",
        "unzippingReq = True #please modify this flag unzippingReq from False to True \n",
        "if unzippingReq: #please modify this code unzippingReq from False to True \n",
        "    StopWatch.start(\"Data load\")\n",
        "    file_name = data_path  + '/residential-power-usage-3years-data-timeseries.zip'\n",
        "    zip_ref = zipfile.ZipFile(file_name, 'r')\n",
        "    zip_ref.extractall(path=data_path)\n",
        "    zip_ref.close()"
      ],
      "execution_count": 8,
      "outputs": []
    },
    {
      "cell_type": "code",
      "metadata": {
        "id": "wpE3er-zCUPX"
      },
      "source": [
        "if len(os.listdir()) > 1:\n",
        "  power_usage = pd.read_csv('power_usage_2016_to_2020.csv')\n",
        "  weather = pd.read_csv('weather_2016_2020_daily.csv')\n",
        "if unzippingReq:\n",
        "  StopWatch.stop(\"Data load\")\n",
        "  StopWatch.status(\"Data load\", True)"
      ],
      "execution_count": 9,
      "outputs": []
    },
    {
      "cell_type": "markdown",
      "metadata": {
        "id": "XmcabqiGDpcg"
      },
      "source": [
        "## Data descriptive analysis"
      ]
    },
    {
      "cell_type": "code",
      "metadata": {
        "colab": {
          "base_uri": "https://localhost:8080/",
          "height": 0
        },
        "id": "rkLmGwO_Dolv",
        "outputId": "ed8a0d47-71ee-4f8a-bb6f-b2b0a33a9ec6"
      },
      "source": [
        "power_usage.head(25)"
      ],
      "execution_count": 10,
      "outputs": [
        {
          "output_type": "execute_result",
          "data": {
            "text/html": [
              "<div>\n",
              "<style scoped>\n",
              "    .dataframe tbody tr th:only-of-type {\n",
              "        vertical-align: middle;\n",
              "    }\n",
              "\n",
              "    .dataframe tbody tr th {\n",
              "        vertical-align: top;\n",
              "    }\n",
              "\n",
              "    .dataframe thead th {\n",
              "        text-align: right;\n",
              "    }\n",
              "</style>\n",
              "<table border=\"1\" class=\"dataframe\">\n",
              "  <thead>\n",
              "    <tr style=\"text-align: right;\">\n",
              "      <th></th>\n",
              "      <th>StartDate</th>\n",
              "      <th>Value (kWh)</th>\n",
              "      <th>day_of_week</th>\n",
              "      <th>notes</th>\n",
              "    </tr>\n",
              "  </thead>\n",
              "  <tbody>\n",
              "    <tr>\n",
              "      <th>0</th>\n",
              "      <td>2016-01-06 00:00:00</td>\n",
              "      <td>1.057</td>\n",
              "      <td>2</td>\n",
              "      <td>weekday</td>\n",
              "    </tr>\n",
              "    <tr>\n",
              "      <th>1</th>\n",
              "      <td>2016-01-06 01:00:00</td>\n",
              "      <td>1.171</td>\n",
              "      <td>2</td>\n",
              "      <td>weekday</td>\n",
              "    </tr>\n",
              "    <tr>\n",
              "      <th>2</th>\n",
              "      <td>2016-01-06 02:00:00</td>\n",
              "      <td>0.560</td>\n",
              "      <td>2</td>\n",
              "      <td>weekday</td>\n",
              "    </tr>\n",
              "    <tr>\n",
              "      <th>3</th>\n",
              "      <td>2016-01-06 03:00:00</td>\n",
              "      <td>0.828</td>\n",
              "      <td>2</td>\n",
              "      <td>weekday</td>\n",
              "    </tr>\n",
              "    <tr>\n",
              "      <th>4</th>\n",
              "      <td>2016-01-06 04:00:00</td>\n",
              "      <td>0.932</td>\n",
              "      <td>2</td>\n",
              "      <td>weekday</td>\n",
              "    </tr>\n",
              "    <tr>\n",
              "      <th>5</th>\n",
              "      <td>2016-01-06 05:00:00</td>\n",
              "      <td>0.333</td>\n",
              "      <td>2</td>\n",
              "      <td>weekday</td>\n",
              "    </tr>\n",
              "    <tr>\n",
              "      <th>6</th>\n",
              "      <td>2016-01-06 06:00:00</td>\n",
              "      <td>0.462</td>\n",
              "      <td>2</td>\n",
              "      <td>weekday</td>\n",
              "    </tr>\n",
              "    <tr>\n",
              "      <th>7</th>\n",
              "      <td>2016-01-06 07:00:00</td>\n",
              "      <td>0.493</td>\n",
              "      <td>2</td>\n",
              "      <td>weekday</td>\n",
              "    </tr>\n",
              "    <tr>\n",
              "      <th>8</th>\n",
              "      <td>2016-01-06 08:00:00</td>\n",
              "      <td>0.325</td>\n",
              "      <td>2</td>\n",
              "      <td>weekday</td>\n",
              "    </tr>\n",
              "    <tr>\n",
              "      <th>9</th>\n",
              "      <td>2016-01-06 09:00:00</td>\n",
              "      <td>0.294</td>\n",
              "      <td>2</td>\n",
              "      <td>weekday</td>\n",
              "    </tr>\n",
              "    <tr>\n",
              "      <th>10</th>\n",
              "      <td>2016-01-06 10:00:00</td>\n",
              "      <td>0.273</td>\n",
              "      <td>2</td>\n",
              "      <td>weekday</td>\n",
              "    </tr>\n",
              "    <tr>\n",
              "      <th>11</th>\n",
              "      <td>2016-01-06 11:00:00</td>\n",
              "      <td>0.723</td>\n",
              "      <td>2</td>\n",
              "      <td>weekday</td>\n",
              "    </tr>\n",
              "    <tr>\n",
              "      <th>12</th>\n",
              "      <td>2016-01-06 12:00:00</td>\n",
              "      <td>0.426</td>\n",
              "      <td>2</td>\n",
              "      <td>weekday</td>\n",
              "    </tr>\n",
              "    <tr>\n",
              "      <th>13</th>\n",
              "      <td>2016-01-06 13:00:00</td>\n",
              "      <td>0.421</td>\n",
              "      <td>2</td>\n",
              "      <td>weekday</td>\n",
              "    </tr>\n",
              "    <tr>\n",
              "      <th>14</th>\n",
              "      <td>2016-01-06 14:00:00</td>\n",
              "      <td>0.447</td>\n",
              "      <td>2</td>\n",
              "      <td>weekday</td>\n",
              "    </tr>\n",
              "    <tr>\n",
              "      <th>15</th>\n",
              "      <td>2016-01-06 15:00:00</td>\n",
              "      <td>0.496</td>\n",
              "      <td>2</td>\n",
              "      <td>weekday</td>\n",
              "    </tr>\n",
              "    <tr>\n",
              "      <th>16</th>\n",
              "      <td>2016-01-06 16:00:00</td>\n",
              "      <td>0.523</td>\n",
              "      <td>2</td>\n",
              "      <td>weekday</td>\n",
              "    </tr>\n",
              "    <tr>\n",
              "      <th>17</th>\n",
              "      <td>2016-01-06 17:00:00</td>\n",
              "      <td>3.647</td>\n",
              "      <td>2</td>\n",
              "      <td>weekday</td>\n",
              "    </tr>\n",
              "    <tr>\n",
              "      <th>18</th>\n",
              "      <td>2016-01-06 18:00:00</td>\n",
              "      <td>3.018</td>\n",
              "      <td>2</td>\n",
              "      <td>weekday</td>\n",
              "    </tr>\n",
              "    <tr>\n",
              "      <th>19</th>\n",
              "      <td>2016-01-06 19:00:00</td>\n",
              "      <td>3.326</td>\n",
              "      <td>2</td>\n",
              "      <td>weekday</td>\n",
              "    </tr>\n",
              "    <tr>\n",
              "      <th>20</th>\n",
              "      <td>2016-01-06 20:00:00</td>\n",
              "      <td>2.175</td>\n",
              "      <td>2</td>\n",
              "      <td>weekday</td>\n",
              "    </tr>\n",
              "    <tr>\n",
              "      <th>21</th>\n",
              "      <td>2016-01-06 21:00:00</td>\n",
              "      <td>2.973</td>\n",
              "      <td>2</td>\n",
              "      <td>weekday</td>\n",
              "    </tr>\n",
              "    <tr>\n",
              "      <th>22</th>\n",
              "      <td>2016-01-06 22:00:00</td>\n",
              "      <td>2.994</td>\n",
              "      <td>2</td>\n",
              "      <td>weekday</td>\n",
              "    </tr>\n",
              "    <tr>\n",
              "      <th>23</th>\n",
              "      <td>2016-01-06 23:00:00</td>\n",
              "      <td>1.794</td>\n",
              "      <td>2</td>\n",
              "      <td>weekday</td>\n",
              "    </tr>\n",
              "    <tr>\n",
              "      <th>24</th>\n",
              "      <td>2016-02-06 00:00:00</td>\n",
              "      <td>1.281</td>\n",
              "      <td>5</td>\n",
              "      <td>weekend</td>\n",
              "    </tr>\n",
              "  </tbody>\n",
              "</table>\n",
              "</div>"
            ],
            "text/plain": [
              "              StartDate  Value (kWh)  day_of_week    notes\n",
              "0   2016-01-06 00:00:00        1.057            2  weekday\n",
              "1   2016-01-06 01:00:00        1.171            2  weekday\n",
              "2   2016-01-06 02:00:00        0.560            2  weekday\n",
              "3   2016-01-06 03:00:00        0.828            2  weekday\n",
              "4   2016-01-06 04:00:00        0.932            2  weekday\n",
              "5   2016-01-06 05:00:00        0.333            2  weekday\n",
              "6   2016-01-06 06:00:00        0.462            2  weekday\n",
              "7   2016-01-06 07:00:00        0.493            2  weekday\n",
              "8   2016-01-06 08:00:00        0.325            2  weekday\n",
              "9   2016-01-06 09:00:00        0.294            2  weekday\n",
              "10  2016-01-06 10:00:00        0.273            2  weekday\n",
              "11  2016-01-06 11:00:00        0.723            2  weekday\n",
              "12  2016-01-06 12:00:00        0.426            2  weekday\n",
              "13  2016-01-06 13:00:00        0.421            2  weekday\n",
              "14  2016-01-06 14:00:00        0.447            2  weekday\n",
              "15  2016-01-06 15:00:00        0.496            2  weekday\n",
              "16  2016-01-06 16:00:00        0.523            2  weekday\n",
              "17  2016-01-06 17:00:00        3.647            2  weekday\n",
              "18  2016-01-06 18:00:00        3.018            2  weekday\n",
              "19  2016-01-06 19:00:00        3.326            2  weekday\n",
              "20  2016-01-06 20:00:00        2.175            2  weekday\n",
              "21  2016-01-06 21:00:00        2.973            2  weekday\n",
              "22  2016-01-06 22:00:00        2.994            2  weekday\n",
              "23  2016-01-06 23:00:00        1.794            2  weekday\n",
              "24  2016-02-06 00:00:00        1.281            5  weekend"
            ]
          },
          "metadata": {
            "tags": []
          },
          "execution_count": 10
        }
      ]
    },
    {
      "cell_type": "code",
      "metadata": {
        "colab": {
          "base_uri": "https://localhost:8080/",
          "height": 0
        },
        "id": "-GZUedIVEHaR",
        "outputId": "07f32c70-46c5-4582-a9b0-2021c021133e"
      },
      "source": [
        "weather.head()"
      ],
      "execution_count": 11,
      "outputs": [
        {
          "output_type": "execute_result",
          "data": {
            "text/html": [
              "<div>\n",
              "<style scoped>\n",
              "    .dataframe tbody tr th:only-of-type {\n",
              "        vertical-align: middle;\n",
              "    }\n",
              "\n",
              "    .dataframe tbody tr th {\n",
              "        vertical-align: top;\n",
              "    }\n",
              "\n",
              "    .dataframe thead th {\n",
              "        text-align: right;\n",
              "    }\n",
              "</style>\n",
              "<table border=\"1\" class=\"dataframe\">\n",
              "  <thead>\n",
              "    <tr style=\"text-align: right;\">\n",
              "      <th></th>\n",
              "      <th>Date</th>\n",
              "      <th>Day</th>\n",
              "      <th>Temp_max</th>\n",
              "      <th>Temp_avg</th>\n",
              "      <th>Temp_min</th>\n",
              "      <th>Dew_max</th>\n",
              "      <th>Dew_avg</th>\n",
              "      <th>Dew_min</th>\n",
              "      <th>Hum_max</th>\n",
              "      <th>Hum_avg</th>\n",
              "      <th>Hum_min</th>\n",
              "      <th>Wind_max</th>\n",
              "      <th>Wind_avg</th>\n",
              "      <th>Wind_min</th>\n",
              "      <th>Press_max</th>\n",
              "      <th>Press_avg</th>\n",
              "      <th>Press_min</th>\n",
              "      <th>Precipit</th>\n",
              "      <th>day_of_week</th>\n",
              "    </tr>\n",
              "  </thead>\n",
              "  <tbody>\n",
              "    <tr>\n",
              "      <th>0</th>\n",
              "      <td>2016-01-06</td>\n",
              "      <td>1</td>\n",
              "      <td>85</td>\n",
              "      <td>74.8</td>\n",
              "      <td>68</td>\n",
              "      <td>74</td>\n",
              "      <td>71.4</td>\n",
              "      <td>66</td>\n",
              "      <td>100</td>\n",
              "      <td>89.4</td>\n",
              "      <td>65</td>\n",
              "      <td>21</td>\n",
              "      <td>9.5</td>\n",
              "      <td>0</td>\n",
              "      <td>29.8</td>\n",
              "      <td>29.8</td>\n",
              "      <td>29.7</td>\n",
              "      <td>0.00</td>\n",
              "      <td>2</td>\n",
              "    </tr>\n",
              "    <tr>\n",
              "      <th>1</th>\n",
              "      <td>2016-02-06</td>\n",
              "      <td>2</td>\n",
              "      <td>76</td>\n",
              "      <td>71.2</td>\n",
              "      <td>66</td>\n",
              "      <td>74</td>\n",
              "      <td>70.3</td>\n",
              "      <td>66</td>\n",
              "      <td>100</td>\n",
              "      <td>96.8</td>\n",
              "      <td>89</td>\n",
              "      <td>18</td>\n",
              "      <td>7.8</td>\n",
              "      <td>0</td>\n",
              "      <td>29.8</td>\n",
              "      <td>29.8</td>\n",
              "      <td>29.7</td>\n",
              "      <td>4.33</td>\n",
              "      <td>5</td>\n",
              "    </tr>\n",
              "    <tr>\n",
              "      <th>2</th>\n",
              "      <td>2016-03-06</td>\n",
              "      <td>3</td>\n",
              "      <td>79</td>\n",
              "      <td>72.1</td>\n",
              "      <td>68</td>\n",
              "      <td>72</td>\n",
              "      <td>70.0</td>\n",
              "      <td>68</td>\n",
              "      <td>100</td>\n",
              "      <td>93.6</td>\n",
              "      <td>72</td>\n",
              "      <td>18</td>\n",
              "      <td>4.7</td>\n",
              "      <td>0</td>\n",
              "      <td>29.8</td>\n",
              "      <td>29.8</td>\n",
              "      <td>29.7</td>\n",
              "      <td>3.18</td>\n",
              "      <td>6</td>\n",
              "    </tr>\n",
              "    <tr>\n",
              "      <th>3</th>\n",
              "      <td>2016-04-06</td>\n",
              "      <td>4</td>\n",
              "      <td>76</td>\n",
              "      <td>71.2</td>\n",
              "      <td>69</td>\n",
              "      <td>73</td>\n",
              "      <td>70.0</td>\n",
              "      <td>66</td>\n",
              "      <td>100</td>\n",
              "      <td>96.1</td>\n",
              "      <td>85</td>\n",
              "      <td>20</td>\n",
              "      <td>7.0</td>\n",
              "      <td>0</td>\n",
              "      <td>29.8</td>\n",
              "      <td>29.7</td>\n",
              "      <td>29.7</td>\n",
              "      <td>2.37</td>\n",
              "      <td>2</td>\n",
              "    </tr>\n",
              "    <tr>\n",
              "      <th>4</th>\n",
              "      <td>2016-05-06</td>\n",
              "      <td>5</td>\n",
              "      <td>82</td>\n",
              "      <td>73.8</td>\n",
              "      <td>68</td>\n",
              "      <td>72</td>\n",
              "      <td>70.0</td>\n",
              "      <td>68</td>\n",
              "      <td>100</td>\n",
              "      <td>88.7</td>\n",
              "      <td>62</td>\n",
              "      <td>17</td>\n",
              "      <td>7.7</td>\n",
              "      <td>0</td>\n",
              "      <td>29.7</td>\n",
              "      <td>29.7</td>\n",
              "      <td>29.7</td>\n",
              "      <td>0.39</td>\n",
              "      <td>4</td>\n",
              "    </tr>\n",
              "  </tbody>\n",
              "</table>\n",
              "</div>"
            ],
            "text/plain": [
              "         Date  Day  Temp_max  ...  Press_min  Precipit  day_of_week\n",
              "0  2016-01-06    1        85  ...       29.7      0.00            2\n",
              "1  2016-02-06    2        76  ...       29.7      4.33            5\n",
              "2  2016-03-06    3        79  ...       29.7      3.18            6\n",
              "3  2016-04-06    4        76  ...       29.7      2.37            2\n",
              "4  2016-05-06    5        82  ...       29.7      0.39            4\n",
              "\n",
              "[5 rows x 19 columns]"
            ]
          },
          "metadata": {
            "tags": []
          },
          "execution_count": 11
        }
      ]
    },
    {
      "cell_type": "code",
      "metadata": {
        "colab": {
          "base_uri": "https://localhost:8080/"
        },
        "id": "yHxLcaRPEOeE",
        "outputId": "c906def3-a136-4c0f-e4be-181b121d4a3c"
      },
      "source": [
        "print(power_usage.info())"
      ],
      "execution_count": 12,
      "outputs": [
        {
          "output_type": "stream",
          "text": [
            "<class 'pandas.core.frame.DataFrame'>\n",
            "RangeIndex: 35952 entries, 0 to 35951\n",
            "Data columns (total 4 columns):\n",
            " #   Column       Non-Null Count  Dtype  \n",
            "---  ------       --------------  -----  \n",
            " 0   StartDate    35952 non-null  object \n",
            " 1   Value (kWh)  35952 non-null  float64\n",
            " 2   day_of_week  35952 non-null  int64  \n",
            " 3   notes        35952 non-null  object \n",
            "dtypes: float64(1), int64(1), object(2)\n",
            "memory usage: 1.1+ MB\n",
            "None\n"
          ],
          "name": "stdout"
        }
      ]
    },
    {
      "cell_type": "code",
      "metadata": {
        "colab": {
          "base_uri": "https://localhost:8080/"
        },
        "id": "RQgZuxwgEOn_",
        "outputId": "1d577112-c1b6-498f-dad0-0629c9360754"
      },
      "source": [
        "print(weather.info())"
      ],
      "execution_count": 13,
      "outputs": [
        {
          "output_type": "stream",
          "text": [
            "<class 'pandas.core.frame.DataFrame'>\n",
            "RangeIndex: 1552 entries, 0 to 1551\n",
            "Data columns (total 19 columns):\n",
            " #   Column       Non-Null Count  Dtype  \n",
            "---  ------       --------------  -----  \n",
            " 0   Date         1552 non-null   object \n",
            " 1   Day          1552 non-null   int64  \n",
            " 2   Temp_max     1552 non-null   int64  \n",
            " 3   Temp_avg     1552 non-null   float64\n",
            " 4   Temp_min     1552 non-null   int64  \n",
            " 5   Dew_max      1552 non-null   int64  \n",
            " 6   Dew_avg      1552 non-null   float64\n",
            " 7   Dew_min      1552 non-null   int64  \n",
            " 8   Hum_max      1552 non-null   int64  \n",
            " 9   Hum_avg      1552 non-null   float64\n",
            " 10  Hum_min      1552 non-null   int64  \n",
            " 11  Wind_max     1552 non-null   int64  \n",
            " 12  Wind_avg     1552 non-null   float64\n",
            " 13  Wind_min     1552 non-null   int64  \n",
            " 14  Press_max    1552 non-null   float64\n",
            " 15  Press_avg    1552 non-null   float64\n",
            " 16  Press_min    1552 non-null   float64\n",
            " 17  Precipit     1552 non-null   float64\n",
            " 18  day_of_week  1552 non-null   int64  \n",
            "dtypes: float64(8), int64(10), object(1)\n",
            "memory usage: 230.5+ KB\n",
            "None\n"
          ],
          "name": "stdout"
        }
      ]
    },
    {
      "cell_type": "code",
      "metadata": {
        "colab": {
          "base_uri": "https://localhost:8080/",
          "height": 0
        },
        "id": "PPH_78zcEOpu",
        "outputId": "a1a394b0-f020-4f9f-d267-803861f8dc48"
      },
      "source": [
        "power_usage.describe()"
      ],
      "execution_count": 14,
      "outputs": [
        {
          "output_type": "execute_result",
          "data": {
            "text/html": [
              "<div>\n",
              "<style scoped>\n",
              "    .dataframe tbody tr th:only-of-type {\n",
              "        vertical-align: middle;\n",
              "    }\n",
              "\n",
              "    .dataframe tbody tr th {\n",
              "        vertical-align: top;\n",
              "    }\n",
              "\n",
              "    .dataframe thead th {\n",
              "        text-align: right;\n",
              "    }\n",
              "</style>\n",
              "<table border=\"1\" class=\"dataframe\">\n",
              "  <thead>\n",
              "    <tr style=\"text-align: right;\">\n",
              "      <th></th>\n",
              "      <th>Value (kWh)</th>\n",
              "      <th>day_of_week</th>\n",
              "    </tr>\n",
              "  </thead>\n",
              "  <tbody>\n",
              "    <tr>\n",
              "      <th>count</th>\n",
              "      <td>35952.000000</td>\n",
              "      <td>35952.000000</td>\n",
              "    </tr>\n",
              "    <tr>\n",
              "      <th>mean</th>\n",
              "      <td>0.891631</td>\n",
              "      <td>2.997330</td>\n",
              "    </tr>\n",
              "    <tr>\n",
              "      <th>std</th>\n",
              "      <td>0.908133</td>\n",
              "      <td>1.999024</td>\n",
              "    </tr>\n",
              "    <tr>\n",
              "      <th>min</th>\n",
              "      <td>0.064000</td>\n",
              "      <td>0.000000</td>\n",
              "    </tr>\n",
              "    <tr>\n",
              "      <th>25%</th>\n",
              "      <td>0.323750</td>\n",
              "      <td>1.000000</td>\n",
              "    </tr>\n",
              "    <tr>\n",
              "      <th>50%</th>\n",
              "      <td>0.501000</td>\n",
              "      <td>3.000000</td>\n",
              "    </tr>\n",
              "    <tr>\n",
              "      <th>75%</th>\n",
              "      <td>1.072000</td>\n",
              "      <td>5.000000</td>\n",
              "    </tr>\n",
              "    <tr>\n",
              "      <th>max</th>\n",
              "      <td>6.446000</td>\n",
              "      <td>6.000000</td>\n",
              "    </tr>\n",
              "  </tbody>\n",
              "</table>\n",
              "</div>"
            ],
            "text/plain": [
              "        Value (kWh)   day_of_week\n",
              "count  35952.000000  35952.000000\n",
              "mean       0.891631      2.997330\n",
              "std        0.908133      1.999024\n",
              "min        0.064000      0.000000\n",
              "25%        0.323750      1.000000\n",
              "50%        0.501000      3.000000\n",
              "75%        1.072000      5.000000\n",
              "max        6.446000      6.000000"
            ]
          },
          "metadata": {
            "tags": []
          },
          "execution_count": 14
        }
      ]
    },
    {
      "cell_type": "code",
      "metadata": {
        "colab": {
          "base_uri": "https://localhost:8080/"
        },
        "id": "ogz9Lm5aEOvS",
        "outputId": "1d48e711-b028-4472-8e24-f72a369eea8f"
      },
      "source": [
        "power_usage.notes.unique()"
      ],
      "execution_count": 15,
      "outputs": [
        {
          "output_type": "execute_result",
          "data": {
            "text/plain": [
              "array(['weekday', 'weekend', 'vacation', 'COVID_lockdown'], dtype=object)"
            ]
          },
          "metadata": {
            "tags": []
          },
          "execution_count": 15
        }
      ]
    },
    {
      "cell_type": "markdown",
      "metadata": {
        "id": "KW6dc7JBEloJ"
      },
      "source": [
        "## Data Preprocessing"
      ]
    },
    {
      "cell_type": "markdown",
      "metadata": {
        "id": "fNIALL_FI9if"
      },
      "source": [
        "### Change column name"
      ]
    },
    {
      "cell_type": "code",
      "metadata": {
        "id": "2uTho5xn1d5M"
      },
      "source": [
        "StopWatch.start(\"Data preprocessing\")"
      ],
      "execution_count": 16,
      "outputs": []
    },
    {
      "cell_type": "code",
      "metadata": {
        "id": "FRBQCt-RI68L"
      },
      "source": [
        "power_usage.rename(columns={'Value (kWh)' : 'Value'}, inplace=True)"
      ],
      "execution_count": 17,
      "outputs": []
    },
    {
      "cell_type": "markdown",
      "metadata": {
        "id": "ac91-2VAFrzA"
      },
      "source": [
        "### Change date format"
      ]
    },
    {
      "cell_type": "markdown",
      "metadata": {
        "id": "vY5prvJWEshp"
      },
      "source": [
        "The actual StartDate of data is from 2016-06-01(yyyy-mm-dd). In the dataset the dates are not properly formated. In the following steps the StartDate column is formated properly."
      ]
    },
    {
      "cell_type": "code",
      "metadata": {
        "id": "UulfPbnFEoG3"
      },
      "source": [
        "m = power_usage.shape[0]\n",
        "power_usage_date = pd.Series(range(m), pd.period_range('2016-06-01 00:00:00', freq = '1H', periods = m))\n",
        "power_usage['StartDate'] = power_usage_date.to_frame().index"
      ],
      "execution_count": 18,
      "outputs": []
    },
    {
      "cell_type": "code",
      "metadata": {
        "id": "keoiJY11E0MO"
      },
      "source": [
        "m = weather.shape[0] \n",
        "weather_date = pd.Series(range(m), pd.period_range('2016-06-01', freq = '1D', periods = m))\n",
        "weather['Date'] = weather_date.to_frame().index"
      ],
      "execution_count": 19,
      "outputs": []
    },
    {
      "cell_type": "markdown",
      "metadata": {
        "id": "bSw6CMcoFDjN"
      },
      "source": [
        "### Merge datasets"
      ]
    },
    {
      "cell_type": "markdown",
      "metadata": {
        "id": "FzE6MOBAFNAn"
      },
      "source": [
        "For the purpose of merging Datasets we can split the StartDate to Date and Hour columns."
      ]
    },
    {
      "cell_type": "code",
      "metadata": {
        "id": "1CzXZRulFFto"
      },
      "source": [
        "for idx, date in power_usage.iterrows():\n",
        "    power_usage.loc[idx, 'Date'] = power_usage.StartDate[idx].strftime('%Y-%m-%d')\n",
        "    power_usage.loc[idx, 'Hour'] = power_usage.StartDate[idx].strftime('%H:%M')\n",
        "\n",
        "power_usage.drop(['StartDate'], inplace=True, axis = 1)\n",
        "\n",
        "\n",
        "weather_date = []\n",
        "for idx, date in weather.iterrows():\n",
        "    weather_date.append(weather.Date[idx].strftime('%Y-%m-%d'))\n",
        "weather.Date = weather_date"
      ],
      "execution_count": 20,
      "outputs": []
    },
    {
      "cell_type": "code",
      "metadata": {
        "id": "dT0SUwN-FUjz"
      },
      "source": [
        "df_main  = power_usage.merge(weather,  on = ['Date', 'day_of_week'])"
      ],
      "execution_count": 21,
      "outputs": []
    },
    {
      "cell_type": "code",
      "metadata": {
        "id": "W8GN6xR61l6e"
      },
      "source": [
        "StopWatch.stop(\"Data preprocessing\")\n",
        "StopWatch.status(\"Data preprocessing\", True)"
      ],
      "execution_count": 22,
      "outputs": []
    },
    {
      "cell_type": "code",
      "metadata": {
        "colab": {
          "base_uri": "https://localhost:8080/"
        },
        "id": "fa5-r6xnFb9o",
        "outputId": "76b4d529-9ec6-4adf-88ae-856323680247"
      },
      "source": [
        "print(f\"Shape of main table is {df_main.shape}\")\n",
        "print(f\"Shape of power_usage table is {power_usage.shape}\")\n",
        "print(f\"Shape of weather table is {weather.shape}\")"
      ],
      "execution_count": 23,
      "outputs": [
        {
          "output_type": "stream",
          "text": [
            "Shape of main table is (35952, 22)\n",
            "Shape of power_usage table is (35952, 5)\n",
            "Shape of weather table is (1552, 19)\n"
          ],
          "name": "stdout"
        }
      ]
    },
    {
      "cell_type": "markdown",
      "metadata": {
        "id": "0h5mif2yFjn6"
      },
      "source": [
        "## Exploratory Data Analysis"
      ]
    },
    {
      "cell_type": "code",
      "metadata": {
        "colab": {
          "base_uri": "https://localhost:8080/",
          "height": 299
        },
        "id": "HtXqluSwFf5h",
        "outputId": "71e96d68-f9d1-4b76-ea9f-7ea25f1fbb20"
      },
      "source": [
        "df_main.head()"
      ],
      "execution_count": 24,
      "outputs": [
        {
          "output_type": "execute_result",
          "data": {
            "text/html": [
              "<div>\n",
              "<style scoped>\n",
              "    .dataframe tbody tr th:only-of-type {\n",
              "        vertical-align: middle;\n",
              "    }\n",
              "\n",
              "    .dataframe tbody tr th {\n",
              "        vertical-align: top;\n",
              "    }\n",
              "\n",
              "    .dataframe thead th {\n",
              "        text-align: right;\n",
              "    }\n",
              "</style>\n",
              "<table border=\"1\" class=\"dataframe\">\n",
              "  <thead>\n",
              "    <tr style=\"text-align: right;\">\n",
              "      <th></th>\n",
              "      <th>Value</th>\n",
              "      <th>day_of_week</th>\n",
              "      <th>notes</th>\n",
              "      <th>Date</th>\n",
              "      <th>Hour</th>\n",
              "      <th>Day</th>\n",
              "      <th>Temp_max</th>\n",
              "      <th>Temp_avg</th>\n",
              "      <th>Temp_min</th>\n",
              "      <th>Dew_max</th>\n",
              "      <th>Dew_avg</th>\n",
              "      <th>Dew_min</th>\n",
              "      <th>Hum_max</th>\n",
              "      <th>Hum_avg</th>\n",
              "      <th>Hum_min</th>\n",
              "      <th>Wind_max</th>\n",
              "      <th>Wind_avg</th>\n",
              "      <th>Wind_min</th>\n",
              "      <th>Press_max</th>\n",
              "      <th>Press_avg</th>\n",
              "      <th>Press_min</th>\n",
              "      <th>Precipit</th>\n",
              "    </tr>\n",
              "  </thead>\n",
              "  <tbody>\n",
              "    <tr>\n",
              "      <th>0</th>\n",
              "      <td>1.057</td>\n",
              "      <td>2</td>\n",
              "      <td>weekday</td>\n",
              "      <td>2016-06-01</td>\n",
              "      <td>00:00</td>\n",
              "      <td>1</td>\n",
              "      <td>85</td>\n",
              "      <td>74.8</td>\n",
              "      <td>68</td>\n",
              "      <td>74</td>\n",
              "      <td>71.4</td>\n",
              "      <td>66</td>\n",
              "      <td>100</td>\n",
              "      <td>89.4</td>\n",
              "      <td>65</td>\n",
              "      <td>21</td>\n",
              "      <td>9.5</td>\n",
              "      <td>0</td>\n",
              "      <td>29.8</td>\n",
              "      <td>29.8</td>\n",
              "      <td>29.7</td>\n",
              "      <td>0.0</td>\n",
              "    </tr>\n",
              "    <tr>\n",
              "      <th>1</th>\n",
              "      <td>1.171</td>\n",
              "      <td>2</td>\n",
              "      <td>weekday</td>\n",
              "      <td>2016-06-01</td>\n",
              "      <td>01:00</td>\n",
              "      <td>1</td>\n",
              "      <td>85</td>\n",
              "      <td>74.8</td>\n",
              "      <td>68</td>\n",
              "      <td>74</td>\n",
              "      <td>71.4</td>\n",
              "      <td>66</td>\n",
              "      <td>100</td>\n",
              "      <td>89.4</td>\n",
              "      <td>65</td>\n",
              "      <td>21</td>\n",
              "      <td>9.5</td>\n",
              "      <td>0</td>\n",
              "      <td>29.8</td>\n",
              "      <td>29.8</td>\n",
              "      <td>29.7</td>\n",
              "      <td>0.0</td>\n",
              "    </tr>\n",
              "    <tr>\n",
              "      <th>2</th>\n",
              "      <td>0.560</td>\n",
              "      <td>2</td>\n",
              "      <td>weekday</td>\n",
              "      <td>2016-06-01</td>\n",
              "      <td>02:00</td>\n",
              "      <td>1</td>\n",
              "      <td>85</td>\n",
              "      <td>74.8</td>\n",
              "      <td>68</td>\n",
              "      <td>74</td>\n",
              "      <td>71.4</td>\n",
              "      <td>66</td>\n",
              "      <td>100</td>\n",
              "      <td>89.4</td>\n",
              "      <td>65</td>\n",
              "      <td>21</td>\n",
              "      <td>9.5</td>\n",
              "      <td>0</td>\n",
              "      <td>29.8</td>\n",
              "      <td>29.8</td>\n",
              "      <td>29.7</td>\n",
              "      <td>0.0</td>\n",
              "    </tr>\n",
              "    <tr>\n",
              "      <th>3</th>\n",
              "      <td>0.828</td>\n",
              "      <td>2</td>\n",
              "      <td>weekday</td>\n",
              "      <td>2016-06-01</td>\n",
              "      <td>03:00</td>\n",
              "      <td>1</td>\n",
              "      <td>85</td>\n",
              "      <td>74.8</td>\n",
              "      <td>68</td>\n",
              "      <td>74</td>\n",
              "      <td>71.4</td>\n",
              "      <td>66</td>\n",
              "      <td>100</td>\n",
              "      <td>89.4</td>\n",
              "      <td>65</td>\n",
              "      <td>21</td>\n",
              "      <td>9.5</td>\n",
              "      <td>0</td>\n",
              "      <td>29.8</td>\n",
              "      <td>29.8</td>\n",
              "      <td>29.7</td>\n",
              "      <td>0.0</td>\n",
              "    </tr>\n",
              "    <tr>\n",
              "      <th>4</th>\n",
              "      <td>0.932</td>\n",
              "      <td>2</td>\n",
              "      <td>weekday</td>\n",
              "      <td>2016-06-01</td>\n",
              "      <td>04:00</td>\n",
              "      <td>1</td>\n",
              "      <td>85</td>\n",
              "      <td>74.8</td>\n",
              "      <td>68</td>\n",
              "      <td>74</td>\n",
              "      <td>71.4</td>\n",
              "      <td>66</td>\n",
              "      <td>100</td>\n",
              "      <td>89.4</td>\n",
              "      <td>65</td>\n",
              "      <td>21</td>\n",
              "      <td>9.5</td>\n",
              "      <td>0</td>\n",
              "      <td>29.8</td>\n",
              "      <td>29.8</td>\n",
              "      <td>29.7</td>\n",
              "      <td>0.0</td>\n",
              "    </tr>\n",
              "  </tbody>\n",
              "</table>\n",
              "</div>"
            ],
            "text/plain": [
              "   Value  day_of_week    notes  ... Press_avg Press_min  Precipit\n",
              "0  1.057            2  weekday  ...      29.8      29.7       0.0\n",
              "1  1.171            2  weekday  ...      29.8      29.7       0.0\n",
              "2  0.560            2  weekday  ...      29.8      29.7       0.0\n",
              "3  0.828            2  weekday  ...      29.8      29.7       0.0\n",
              "4  0.932            2  weekday  ...      29.8      29.7       0.0\n",
              "\n",
              "[5 rows x 22 columns]"
            ]
          },
          "metadata": {
            "tags": []
          },
          "execution_count": 24
        }
      ]
    },
    {
      "cell_type": "markdown",
      "metadata": {
        "id": "NSFr2QqXF7Ok"
      },
      "source": [
        "\n",
        "For better use of data , we can split Date into year, month, day columns. Since day column is already in the dataframe, we might just add year and month column."
      ]
    },
    {
      "cell_type": "code",
      "metadata": {
        "id": "dcM1ar2QFhOQ"
      },
      "source": [
        "df_main['year'] = df_main.Date.str.split('-', expand=True)[0]\n",
        "df_main['month'] = df_main.Date.str.split('-', expand=True)[1]\n",
        "df_main.drop(columns = ['Date'], inplace = True)"
      ],
      "execution_count": 25,
      "outputs": []
    },
    {
      "cell_type": "code",
      "metadata": {
        "colab": {
          "base_uri": "https://localhost:8080/",
          "height": 313
        },
        "id": "6-MOdYLbGCE6",
        "outputId": "be853d14-5815-424e-8b53-00d38a1eff68"
      },
      "source": [
        "tod = sns.lineplot('notes', 'Value', data=df_main)\n",
        "plt.xlabel('Type of day')\n",
        "plt.ylabel('Avg Value(kWh)')\n",
        "plt.title('Average power usage by type of the day')\n",
        "#tod.get_figure().savefig(\"tod.png\")"
      ],
      "execution_count": 26,
      "outputs": [
        {
          "output_type": "execute_result",
          "data": {
            "text/plain": [
              "Text(0.5, 1.0, 'Average power usage by type of the day')"
            ]
          },
          "metadata": {
            "tags": []
          },
          "execution_count": 26
        },
        {
          "output_type": "display_data",
          "data": {
            "image/png": "[encoded data removed]",
            "text/plain": [
              "<Figure size 432x288 with 1 Axes>"
            ]
          },
          "metadata": {
            "tags": [],
            "needs_background": "light"
          }
        }
      ]
    },
    {
      "cell_type": "code",
      "metadata": {
        "colab": {
          "base_uri": "https://localhost:8080/",
          "height": 360
        },
        "id": "28XSDWyPGKQt",
        "outputId": "89cfd3db-8830-4de7-b4e6-286cd617f30e"
      },
      "source": [
        "dow = sns.barplot('day_of_week', 'Value', data=df_main)\n",
        "dow.set_xticklabels(['Monday', 'Tuesday', 'Wednesday', 'Thursday', 'Friday', 'Saturday', 'Sunday'])\n",
        "plt.xlabel('Day of Week')\n",
        "plt.ylabel('Avg Value(kWh)')\n",
        "plt.title('Average power usage by day of the week')\n",
        "plt.xticks(rotation = 90)\n",
        "#dow.get_figure().savefig(\"dow.png\")"
      ],
      "execution_count": 27,
      "outputs": [
        {
          "output_type": "execute_result",
          "data": {
            "text/plain": [
              "(array([0, 1, 2, 3, 4, 5, 6]), <a list of 7 Text major ticklabel objects>)"
            ]
          },
          "metadata": {
            "tags": []
          },
          "execution_count": 27
        },
        {
          "output_type": "display_data",
          "data": {
            "image/png": "[encoded data removed]",
            "text/plain": [
              "<Figure size 432x288 with 1 Axes>"
            ]
          },
          "metadata": {
            "tags": [],
            "needs_background": "light"
          }
        }
      ]
    },
    {
      "cell_type": "code",
      "metadata": {
        "colab": {
          "base_uri": "https://localhost:8080/",
          "height": 312
        },
        "id": "b19-o_C2GNmG",
        "outputId": "6f89d53f-f547-422a-ec35-6a89d13407cf"
      },
      "source": [
        "sns.lineplot(x = 'month', y = 'Value', data=df_main[df_main.year.astype(int) >= 2018], hue = 'year', ci = None)\n",
        "plt.legend(labels = ['2018', '2019', '2020'])\n",
        "plt.title('Monthly power usage of three years')\n",
        "plt.ylabel('Power usage(kWh)')\n",
        "#plt.savefig(\"monthly_power.png\")"
      ],
      "execution_count": 28,
      "outputs": [
        {
          "output_type": "execute_result",
          "data": {
            "text/plain": [
              "Text(0, 0.5, 'Power usage(kWh)')"
            ]
          },
          "metadata": {
            "tags": []
          },
          "execution_count": 28
        },
        {
          "output_type": "display_data",
          "data": {
            "image/png": "[encoded data removed]",
            "text/plain": [
              "<Figure size 432x288 with 1 Axes>"
            ]
          },
          "metadata": {
            "tags": [],
            "needs_background": "light"
          }
        }
      ]
    },
    {
      "cell_type": "code",
      "metadata": {
        "id": "3GG5tVhrwYZb"
      },
      "source": [
        "target_corr = df_main.corr()"
      ],
      "execution_count": 29,
      "outputs": []
    },
    {
      "cell_type": "code",
      "metadata": {
        "colab": {
          "base_uri": "https://localhost:8080/",
          "height": 352
        },
        "id": "mdUrlpn2zQJ2",
        "outputId": "e8782ce8-f1b3-4ccf-894a-1144d455a388"
      },
      "source": [
        "sns.heatmap(target_corr, cmap='coolwarm')\n",
        "plt.title('Correlation matrix')\n",
        "#plt.savefig(\"corr_plot\", pad_inches=0.6)"
      ],
      "execution_count": 30,
      "outputs": [
        {
          "output_type": "execute_result",
          "data": {
            "text/plain": [
              "Text(0.5, 1.0, 'Correlation matrix')"
            ]
          },
          "metadata": {
            "tags": []
          },
          "execution_count": 30
        },
        {
          "output_type": "display_data",
          "data": {
            "image/png": "[encoded data removed]",
            "text/plain": [
              "<Figure size 432x288 with 2 Axes>"
            ]
          },
          "metadata": {
            "tags": [],
            "needs_background": "light"
          }
        }
      ]
    },
    {
      "cell_type": "markdown",
      "metadata": {
        "id": "x_m1PTqJ7Pfn"
      },
      "source": [
        "We can see that features like temperature, dew and pressure has high correlation to our target feature. Also different temperatures and dew features are inter-correlated. Therefore, all the intercorrelated features except for temp_avg can be dropped during feature selection. "
      ]
    },
    {
      "cell_type": "code",
      "metadata": {
        "colab": {
          "base_uri": "https://localhost:8080/"
        },
        "id": "aQx82WyG7Ze1",
        "outputId": "d9fe05aa-30d0-4e0f-b85b-db6da51789d0"
      },
      "source": [
        "target_corr['Value']"
      ],
      "execution_count": 31,
      "outputs": [
        {
          "output_type": "execute_result",
          "data": {
            "text/plain": [
              "Value          1.000000\n",
              "day_of_week    0.026342\n",
              "Day           -0.034022\n",
              "Temp_max       0.411861\n",
              "Temp_avg       0.417369\n",
              "Temp_min       0.408709\n",
              "Dew_max        0.351552\n",
              "Dew_avg        0.367533\n",
              "Dew_min        0.373874\n",
              "Hum_max        0.058227\n",
              "Hum_avg       -0.012892\n",
              "Hum_min       -0.043594\n",
              "Wind_max      -0.028582\n",
              "Wind_avg      -0.121607\n",
              "Wind_min      -0.079303\n",
              "Press_max     -0.223549\n",
              "Press_avg     -0.168737\n",
              "Press_min     -0.025829\n",
              "Precipit      -0.017351\n",
              "Name: Value, dtype: float64"
            ]
          },
          "metadata": {
            "tags": []
          },
          "execution_count": 31
        }
      ]
    },
    {
      "cell_type": "code",
      "metadata": {
        "id": "Gqm0XdgZ7OUp"
      },
      "source": [
        "drop_cols = ['Temp_max', 'Temp_min', 'Dew_avg', 'Dew_min', 'Dew_max', 'Press_avg', 'Press_min']"
      ],
      "execution_count": 32,
      "outputs": []
    },
    {
      "cell_type": "markdown",
      "metadata": {
        "id": "s3Z8M9YMGhNY"
      },
      "source": [
        "## Data Modelling"
      ]
    },
    {
      "cell_type": "code",
      "metadata": {
        "id": "X7WkQMIaGa_b"
      },
      "source": [
        "from sklearn.linear_model import LinearRegression\n",
        "from sklearn.ensemble import GradientBoostingRegressor\n",
        "from xgboost import XGBRegressor\n",
        "from lightgbm import LGBMRegressor\n",
        "\n",
        "# Pipelines\n",
        "from sklearn.base import BaseEstimator, TransformerMixin\n",
        "from sklearn.pipeline import make_pipeline, Pipeline, FeatureUnion\n",
        "from sklearn.preprocessing import MinMaxScaler, StandardScaler, OneHotEncoder\n",
        "\n",
        "# CV\n",
        "from sklearn.model_selection import train_test_split\n",
        "from sklearn.model_selection import cross_val_score\n",
        "from sklearn.model_selection import GridSearchCV\n",
        "from sklearn.model_selection import ShuffleSplit\n",
        "\n",
        "# metrics\n",
        "\n",
        "from sklearn.metrics import mean_squared_error, r2_score"
      ],
      "execution_count": 33,
      "outputs": []
    },
    {
      "cell_type": "markdown",
      "metadata": {
        "id": "sQtiwjan56Ho"
      },
      "source": [
        "### Split data"
      ]
    },
    {
      "cell_type": "code",
      "metadata": {
        "id": "Wf8TLqsHGnze"
      },
      "source": [
        "X_train, X_test,y_train , y_test = train_test_split(df_main.drop(columns=['Value']), df_main.Value, test_size = .2, stratify= df_main.notes, random_state =42, shuffle=True)"
      ],
      "execution_count": 34,
      "outputs": []
    },
    {
      "cell_type": "code",
      "metadata": {
        "colab": {
          "base_uri": "https://localhost:8080/"
        },
        "id": "_eiZq_sBHERs",
        "outputId": "076ef718-3d66-4161-8f8c-e41f4ef8f2ab"
      },
      "source": [
        "print(f\"Train data shape is {X_train.shape}\")\n",
        "print(f\"Test data shape is {X_test.shape}\")"
      ],
      "execution_count": 35,
      "outputs": [
        {
          "output_type": "stream",
          "text": [
            "Train data shape is (28761, 22)\n",
            "Test data shape is (7191, 22)\n"
          ],
          "name": "stdout"
        }
      ]
    },
    {
      "cell_type": "code",
      "metadata": {
        "colab": {
          "base_uri": "https://localhost:8080/"
        },
        "id": "iNQWm5wJHFyZ",
        "outputId": "c854bdd6-108e-4cdb-ec21-0979c4bbb83c"
      },
      "source": [
        "df_main.columns"
      ],
      "execution_count": 36,
      "outputs": [
        {
          "output_type": "execute_result",
          "data": {
            "text/plain": [
              "Index(['Value', 'day_of_week', 'notes', 'Hour', 'Day', 'Temp_max', 'Temp_avg',\n",
              "       'Temp_min', 'Dew_max', 'Dew_avg', 'Dew_min', 'Hum_max', 'Hum_avg',\n",
              "       'Hum_min', 'Wind_max', 'Wind_avg', 'Wind_min', 'Press_max', 'Press_avg',\n",
              "       'Press_min', 'Precipit', 'year', 'month'],\n",
              "      dtype='object')"
            ]
          },
          "metadata": {
            "tags": []
          },
          "execution_count": 36
        }
      ]
    },
    {
      "cell_type": "markdown",
      "metadata": {
        "id": "Cba4RGBF5_ca"
      },
      "source": [
        "### Pipelines"
      ]
    },
    {
      "cell_type": "code",
      "metadata": {
        "id": "UJG4OEaPHRuI"
      },
      "source": [
        "class DataFrameSelector(BaseEstimator, TransformerMixin):\n",
        "    def __init__(self, attribute_names):\n",
        "        self.attribute_names = attribute_names\n",
        "    def fit(self, X, y=None):\n",
        "        return self\n",
        "    def transform(self, X):\n",
        "        return X[self.attribute_names].values"
      ],
      "execution_count": 37,
      "outputs": []
    },
    {
      "cell_type": "code",
      "metadata": {
        "id": "1EwxcsHuHR4R"
      },
      "source": [
        "cat_features = ['day_of_week', 'notes', 'Hour', 'Day', 'year', 'month']\n",
        "num_features = ['Temp_max', 'Temp_avg',\n",
        "       'Temp_min', 'Dew_max', 'Dew_avg', 'Dew_min', 'Hum_max', 'Hum_avg',\n",
        "       'Hum_min', 'Wind_max', 'Wind_avg', 'Wind_min', 'Press_max', 'Press_avg',\n",
        "       'Press_min', 'Precipit']"
      ],
      "execution_count": 38,
      "outputs": []
    },
    {
      "cell_type": "code",
      "metadata": {
        "id": "N5X6SsNHHR_k"
      },
      "source": [
        "num_pipeline = Pipeline([\n",
        "        ('selector', DataFrameSelector(num_features)),\n",
        "        ('std_scaler', StandardScaler()),\n",
        "    ])\n",
        "\n",
        "# Create a pipelne for the categorical features.\n",
        "# Entries with missing values or values that don't exist in the range\n",
        "# defined above will be one hot encoded as zeroes.\n",
        "\n",
        "cat_pipeline = Pipeline([\n",
        "        ('selector', DataFrameSelector(cat_features)),\n",
        "        ('ohe', OneHotEncoder(sparse=False, handle_unknown=\"ignore\"))\n",
        "    ])\n",
        "\n",
        "# Union the transformed, scaled numeric and categorical features.\n",
        "data_prep_pipeline = FeatureUnion(transformer_list=[\n",
        "        (\"num_pipeline\", num_pipeline),\n",
        "        (\"cat_pipeline\", cat_pipeline),\n",
        "    ])"
      ],
      "execution_count": 39,
      "outputs": []
    },
    {
      "cell_type": "code",
      "metadata": {
        "id": "2N4WBIx6Hcyo"
      },
      "source": [
        "lin_reg = LinearRegression()\n",
        "np.random.seed(42)\n",
        "\n",
        "baseline_pipeline = Pipeline([\n",
        "    ('preperation', data_prep_pipeline),\n",
        "    ('baseline_linreg', lin_reg)\n",
        "])"
      ],
      "execution_count": 40,
      "outputs": []
    },
    {
      "cell_type": "code",
      "metadata": {
        "id": "6w5igRrcHc9o"
      },
      "source": [
        "cvSplits = ShuffleSplit(n_splits=10, test_size=0.3, random_state=0)"
      ],
      "execution_count": 41,
      "outputs": []
    },
    {
      "cell_type": "markdown",
      "metadata": {
        "id": "vWvXNJ2WKhdJ"
      },
      "source": [
        "### Baseline linear regression model"
      ]
    },
    {
      "cell_type": "code",
      "metadata": {
        "id": "zIyy59qTHc_c"
      },
      "source": [
        "StopWatch.start(\"Baseline Linear Regression\")\n",
        "baseline_pipeline.fit(X_train, y_train)\n",
        "np.random.seed(42)\n",
        "\n",
        "lin_scores = cross_val_score(baseline_pipeline, X_train, y_train, cv=cvSplits, scoring = 'neg_mean_squared_error')\n",
        "                               \n",
        "lin_score_train = np.sqrt(-lin_scores.mean())\n",
        "\n",
        "# Time and score test predictions\n",
        "\n",
        "lin_test_pred = baseline_pipeline.predict(X_test)\n",
        "\n",
        "lin_score_test  = np.sqrt(mean_squared_error(y_test, lin_test_pred))\n",
        "lin_r2_score = r2_score(y_test, lin_test_pred)\n",
        "\n",
        "StopWatch.stop(\"Baseline Linear Regression\")\n",
        "StopWatch.status(\"Baseline Linear Regression\", True)"
      ],
      "execution_count": 42,
      "outputs": []
    },
    {
      "cell_type": "code",
      "metadata": {
        "id": "Y2A4QosqHdEX"
      },
      "source": [
        "results = pd.DataFrame(columns=[\"ExpID\", \n",
        "              \"Train RMSE\",\"Test RMSE\", \"Test R2\"])"
      ],
      "execution_count": 43,
      "outputs": []
    },
    {
      "cell_type": "code",
      "metadata": {
        "colab": {
          "base_uri": "https://localhost:8080/",
          "height": 77
        },
        "id": "DRDMYjFzHpta",
        "outputId": "89a15e86-d0d4-44db-81c9-5b1b7f81f662"
      },
      "source": [
        "results.loc[0] = [\"Baseline Linear Regression\", \n",
        "                  np.round(lin_score_train,4), np.round(lin_score_test,4), np.round(lin_r2_score, 4)]\n",
        "\n",
        "pd.set_option('display.max_colwidth', None)\n",
        "results"
      ],
      "execution_count": 44,
      "outputs": [
        {
          "output_type": "execute_result",
          "data": {
            "text/html": [
              "<div>\n",
              "<style scoped>\n",
              "    .dataframe tbody tr th:only-of-type {\n",
              "        vertical-align: middle;\n",
              "    }\n",
              "\n",
              "    .dataframe tbody tr th {\n",
              "        vertical-align: top;\n",
              "    }\n",
              "\n",
              "    .dataframe thead th {\n",
              "        text-align: right;\n",
              "    }\n",
              "</style>\n",
              "<table border=\"1\" class=\"dataframe\">\n",
              "  <thead>\n",
              "    <tr style=\"text-align: right;\">\n",
              "      <th></th>\n",
              "      <th>ExpID</th>\n",
              "      <th>Train RMSE</th>\n",
              "      <th>Test RMSE</th>\n",
              "      <th>Test R2</th>\n",
              "    </tr>\n",
              "  </thead>\n",
              "  <tbody>\n",
              "    <tr>\n",
              "      <th>0</th>\n",
              "      <td>Baseline Linear Regression</td>\n",
              "      <td>0.6783</td>\n",
              "      <td>0.6811</td>\n",
              "      <td>0.446</td>\n",
              "    </tr>\n",
              "  </tbody>\n",
              "</table>\n",
              "</div>"
            ],
            "text/plain": [
              "                        ExpID  Train RMSE  Test RMSE  Test R2\n",
              "0  Baseline Linear Regression      0.6783     0.6811    0.446"
            ]
          },
          "metadata": {
            "tags": []
          },
          "execution_count": 44
        }
      ]
    },
    {
      "cell_type": "markdown",
      "metadata": {
        "id": "v25ZcIT2KokQ"
      },
      "source": [
        "### Linear regression with predictors"
      ]
    },
    {
      "cell_type": "code",
      "metadata": {
        "id": "rXPyO0CyKtwu"
      },
      "source": [
        "classifiers = [\n",
        "        ('Linear Regression', LinearRegression()),\n",
        "        ('Gradient Boosting', GradientBoostingRegressor(warm_start=True, random_state=42)),\n",
        "        ('XGBoost', XGBRegressor(random_state=42)),\n",
        "        ('Light GBM', LGBMRegressor(random_state=42)),\n",
        "    ]"
      ],
      "execution_count": 45,
      "outputs": []
    },
    {
      "cell_type": "code",
      "metadata": {
        "id": "nLBaCRhbXx9w"
      },
      "source": [
        "#GradientBoostingRegressor().get_params().keys()"
      ],
      "execution_count": 46,
      "outputs": []
    },
    {
      "cell_type": "code",
      "metadata": {
        "id": "NoUMz93JNQh9"
      },
      "source": [
        "params_grid = {\n",
        "        'Linear Regression': {\n",
        "            'fit_intercept': [True, False],\n",
        "        },\n",
        "        'Gradient Boosting':  {\n",
        "            'max_depth': [10, 20, 30],\n",
        "            'max_features': [20, 50, 100],\n",
        "            'validation_fraction': [0.2],\n",
        "            'n_iter_no_change': [10],\n",
        "            'tol': [0.01],\n",
        "            'n_estimators':[20, 50, 100],\n",
        "        },\n",
        "        'XGBoost':  {\n",
        "            'max_depth': [10, 20, 30],\n",
        "            'n_estimators':[20, 50, 100],\n",
        "            'learning_rate': [0.1, 0.01, 0.001]\n",
        "        },\n",
        "        'Light GBM':  {\n",
        "            'max_depth': [10, 20, 30],\n",
        "            'num_leaves': [5, 10, 15],\n",
        "            'n_estimators':[20, 50, 100],\n",
        "            'learning_rate': [0.1, 0.01, 0.001],\n",
        "            'reg_alpha': [0.1, 0.01, 0.001],\n",
        "            'reg_lambda': [0.1, 0.01, 0.001],\n",
        "        },\n",
        "    }"
      ],
      "execution_count": 47,
      "outputs": []
    },
    {
      "cell_type": "markdown",
      "metadata": {
        "id": "2vIu8-e173Wz"
      },
      "source": [
        "#### Feature selection"
      ]
    },
    {
      "cell_type": "code",
      "metadata": {
        "id": "XUuTTMDNNQr_"
      },
      "source": [
        "dropped_df = df_main.drop(columns=drop_cols).copy()\n",
        "num_features = list(set(num_features) - set(drop_cols))\n",
        "X_train, X_test,y_train , y_test = train_test_split(dropped_df.drop(columns=['Value']), dropped_df.Value, test_size = .2, stratify= dropped_df.notes, random_state =42, shuffle=True)"
      ],
      "execution_count": 48,
      "outputs": []
    },
    {
      "cell_type": "code",
      "metadata": {
        "id": "aVTCUl9y-vAH"
      },
      "source": [
        "num_pipeline = Pipeline([\n",
        "        ('selector', DataFrameSelector(num_features)),\n",
        "        ('std_scaler', StandardScaler()),\n",
        "    ])\n",
        "\n",
        "# Create a pipelne for the categorical features.\n",
        "# Entries with missing values or values that don't exist in the range\n",
        "# defined above will be one hot encoded as zeroes.\n",
        "\n",
        "cat_pipeline = Pipeline([\n",
        "        ('selector', DataFrameSelector(cat_features)),\n",
        "      ('ohe', OneHotEncoder(sparse=False, handle_unknown=\"ignore\"))\n",
        "    ])\n",
        "\n",
        "# Union the transformed, scaled numeric and categorical features.\n",
        "data_prep_pipeline = FeatureUnion(transformer_list=[\n",
        "        (\"num_pipeline\", num_pipeline),\n",
        "        (\"cat_pipeline\", cat_pipeline),\n",
        "    ])"
      ],
      "execution_count": 49,
      "outputs": []
    },
    {
      "cell_type": "code",
      "metadata": {
        "colab": {
          "base_uri": "https://localhost:8080/",
          "height": 606
        },
        "id": "Az0LuTER8odT",
        "outputId": "7224d3d6-aa7c-41b1-f64c-1e31de983812"
      },
      "source": [
        "i = 1\n",
        "for (name, classifier) in classifiers:\n",
        "  StopWatch.start(name)\n",
        "  parameters = params_grid[name].copy()\n",
        "\n",
        "  params = {}\n",
        "  for p in parameters.keys():\n",
        "      pipe_key = 'predictor__'+str(p)\n",
        "      params[pipe_key] = parameters[p] \n",
        "\n",
        "  pipe = Pipeline([('preperation', data_prep_pipeline),\n",
        "    ('predictor', classifier)])\n",
        "  \n",
        "  print(f\"********** Starting {name} modelling********\")\n",
        "\n",
        "  gridsearch_model = GridSearchCV(pipe, param_grid=params, cv = 5, n_jobs=-1, verbose=2)\n",
        "  gridsearch_model.fit(X_train, y_train)\n",
        "\n",
        "  best_scores = cross_val_score(gridsearch_model.best_estimator_, X_train, y_train, cv=cvSplits, scoring = 'neg_mean_squared_error')\n",
        "                               \n",
        "  best_score_train = -best_scores.mean()\n",
        "\n",
        "  y_test_pred = gridsearch_model.best_estimator_.predict(X_test)\n",
        "\n",
        "  best_score_test = mean_squared_error(y_test, y_test_pred)\n",
        "\n",
        "  best_r2_test = r2_score(y_test, y_test_pred)\n",
        "\n",
        "  StopWatch.stop(name)\n",
        "  StopWatch.status(name, True)\n",
        "\n",
        "  print(f\"********** End of {name} modelling********\")\n",
        "  #best_scores_test  = baseline_pipeline.score(X_test, y_test)\n",
        "\n",
        "  results.loc[i] = [name, \n",
        "                  np.round(best_score_train,4), np.round(best_score_test,4), np.round(best_r2_test, 4)]\n",
        "\n",
        "  pd.set_option('display.max_colwidth', None)\n",
        "\n",
        "  i += 1\n",
        "  "
      ],
      "execution_count": 58,
      "outputs": [
        {
          "output_type": "stream",
          "text": [
            "********** Starting Linear Regression modelling********\n",
            "Fitting 5 folds for each of 2 candidates, totalling 10 fits\n"
          ],
          "name": "stdout"
        },
        {
          "output_type": "stream",
          "text": [
            "[Parallel(n_jobs=-1)]: Using backend LokyBackend with 2 concurrent workers.\n",
            "[Parallel(n_jobs=-1)]: Done  10 out of  10 | elapsed:    1.9s finished\n"
          ],
          "name": "stderr"
        },
        {
          "output_type": "stream",
          "text": [
            "********** End of Linear Regression modelling********\n",
            "********** Starting Gradient Boosting modelling********\n",
            "Fitting 5 folds for each of 27 candidates, totalling 135 fits\n"
          ],
          "name": "stdout"
        },
        {
          "output_type": "stream",
          "text": [
            "[Parallel(n_jobs=-1)]: Using backend LokyBackend with 2 concurrent workers.\n",
            "[Parallel(n_jobs=-1)]: Done  37 tasks      | elapsed:   56.1s\n",
            "[Parallel(n_jobs=-1)]: Done 135 out of 135 | elapsed:  3.9min finished\n"
          ],
          "name": "stderr"
        },
        {
          "output_type": "stream",
          "text": [
            "********** End of Gradient Boosting modelling********\n",
            "********** Starting XGBoost modelling********\n",
            "Fitting 5 folds for each of 27 candidates, totalling 135 fits\n"
          ],
          "name": "stdout"
        },
        {
          "output_type": "stream",
          "text": [
            "[Parallel(n_jobs=-1)]: Using backend LokyBackend with 2 concurrent workers.\n"
          ],
          "name": "stderr"
        },
        {
          "output_type": "error",
          "ename": "KeyboardInterrupt",
          "evalue": "ignored",
          "traceback": [
            "\u001b[0;31m---------------------------------------------------------------------------\u001b[0m",
            "\u001b[0;31mKeyboardInterrupt\u001b[0m                         Traceback (most recent call last)",
            "\u001b[0;32m<ipython-input-58-44134936415e>\u001b[0m in \u001b[0;36m<module>\u001b[0;34m()\u001b[0m\n\u001b[1;32m     15\u001b[0m \u001b[0;34m\u001b[0m\u001b[0m\n\u001b[1;32m     16\u001b[0m   \u001b[0mgridsearch_model\u001b[0m \u001b[0;34m=\u001b[0m \u001b[0mGridSearchCV\u001b[0m\u001b[0;34m(\u001b[0m\u001b[0mpipe\u001b[0m\u001b[0;34m,\u001b[0m \u001b[0mparam_grid\u001b[0m\u001b[0;34m=\u001b[0m\u001b[0mparams\u001b[0m\u001b[0;34m,\u001b[0m \u001b[0mcv\u001b[0m \u001b[0;34m=\u001b[0m \u001b[0;36m5\u001b[0m\u001b[0;34m,\u001b[0m \u001b[0mn_jobs\u001b[0m\u001b[0;34m=\u001b[0m\u001b[0;34m-\u001b[0m\u001b[0;36m1\u001b[0m\u001b[0;34m,\u001b[0m \u001b[0mverbose\u001b[0m\u001b[0;34m=\u001b[0m\u001b[0;36m2\u001b[0m\u001b[0;34m)\u001b[0m\u001b[0;34m\u001b[0m\u001b[0;34m\u001b[0m\u001b[0m\n\u001b[0;32m---> 17\u001b[0;31m   \u001b[0mgridsearch_model\u001b[0m\u001b[0;34m.\u001b[0m\u001b[0mfit\u001b[0m\u001b[0;34m(\u001b[0m\u001b[0mX_train\u001b[0m\u001b[0;34m,\u001b[0m \u001b[0my_train\u001b[0m\u001b[0;34m)\u001b[0m\u001b[0;34m\u001b[0m\u001b[0;34m\u001b[0m\u001b[0m\n\u001b[0m\u001b[1;32m     18\u001b[0m \u001b[0;34m\u001b[0m\u001b[0m\n\u001b[1;32m     19\u001b[0m   \u001b[0mbest_scores\u001b[0m \u001b[0;34m=\u001b[0m \u001b[0mcross_val_score\u001b[0m\u001b[0;34m(\u001b[0m\u001b[0mgridsearch_model\u001b[0m\u001b[0;34m.\u001b[0m\u001b[0mbest_estimator_\u001b[0m\u001b[0;34m,\u001b[0m \u001b[0mX_train\u001b[0m\u001b[0;34m,\u001b[0m \u001b[0my_train\u001b[0m\u001b[0;34m,\u001b[0m \u001b[0mcv\u001b[0m\u001b[0;34m=\u001b[0m\u001b[0mcvSplits\u001b[0m\u001b[0;34m,\u001b[0m \u001b[0mscoring\u001b[0m \u001b[0;34m=\u001b[0m \u001b[0;34m'neg_mean_squared_error'\u001b[0m\u001b[0;34m)\u001b[0m\u001b[0;34m\u001b[0m\u001b[0;34m\u001b[0m\u001b[0m\n",
            "\u001b[0;32m/usr/local/lib/python3.6/dist-packages/sklearn/model_selection/_search.py\u001b[0m in \u001b[0;36mfit\u001b[0;34m(self, X, y, groups, **fit_params)\u001b[0m\n\u001b[1;32m    708\u001b[0m                 \u001b[0;32mreturn\u001b[0m \u001b[0mresults\u001b[0m\u001b[0;34m\u001b[0m\u001b[0;34m\u001b[0m\u001b[0m\n\u001b[1;32m    709\u001b[0m \u001b[0;34m\u001b[0m\u001b[0m\n\u001b[0;32m--> 710\u001b[0;31m             \u001b[0mself\u001b[0m\u001b[0;34m.\u001b[0m\u001b[0m_run_search\u001b[0m\u001b[0;34m(\u001b[0m\u001b[0mevaluate_candidates\u001b[0m\u001b[0;34m)\u001b[0m\u001b[0;34m\u001b[0m\u001b[0;34m\u001b[0m\u001b[0m\n\u001b[0m\u001b[1;32m    711\u001b[0m \u001b[0;34m\u001b[0m\u001b[0m\n\u001b[1;32m    712\u001b[0m         \u001b[0;31m# For multi-metric evaluation, store the best_index_, best_params_ and\u001b[0m\u001b[0;34m\u001b[0m\u001b[0;34m\u001b[0m\u001b[0;34m\u001b[0m\u001b[0m\n",
            "\u001b[0;32m/usr/local/lib/python3.6/dist-packages/sklearn/model_selection/_search.py\u001b[0m in \u001b[0;36m_run_search\u001b[0;34m(self, evaluate_candidates)\u001b[0m\n\u001b[1;32m   1149\u001b[0m     \u001b[0;32mdef\u001b[0m \u001b[0m_run_search\u001b[0m\u001b[0;34m(\u001b[0m\u001b[0mself\u001b[0m\u001b[0;34m,\u001b[0m \u001b[0mevaluate_candidates\u001b[0m\u001b[0;34m)\u001b[0m\u001b[0;34m:\u001b[0m\u001b[0;34m\u001b[0m\u001b[0;34m\u001b[0m\u001b[0m\n\u001b[1;32m   1150\u001b[0m         \u001b[0;34m\"\"\"Search all candidates in param_grid\"\"\"\u001b[0m\u001b[0;34m\u001b[0m\u001b[0;34m\u001b[0m\u001b[0m\n\u001b[0;32m-> 1151\u001b[0;31m         \u001b[0mevaluate_candidates\u001b[0m\u001b[0;34m(\u001b[0m\u001b[0mParameterGrid\u001b[0m\u001b[0;34m(\u001b[0m\u001b[0mself\u001b[0m\u001b[0;34m.\u001b[0m\u001b[0mparam_grid\u001b[0m\u001b[0;34m)\u001b[0m\u001b[0;34m)\u001b[0m\u001b[0;34m\u001b[0m\u001b[0;34m\u001b[0m\u001b[0m\n\u001b[0m\u001b[1;32m   1152\u001b[0m \u001b[0;34m\u001b[0m\u001b[0m\n\u001b[1;32m   1153\u001b[0m \u001b[0;34m\u001b[0m\u001b[0m\n",
            "\u001b[0;32m/usr/local/lib/python3.6/dist-packages/sklearn/model_selection/_search.py\u001b[0m in \u001b[0;36mevaluate_candidates\u001b[0;34m(candidate_params)\u001b[0m\n\u001b[1;32m    687\u001b[0m                                \u001b[0;32mfor\u001b[0m \u001b[0mparameters\u001b[0m\u001b[0;34m,\u001b[0m \u001b[0;34m(\u001b[0m\u001b[0mtrain\u001b[0m\u001b[0;34m,\u001b[0m \u001b[0mtest\u001b[0m\u001b[0;34m)\u001b[0m\u001b[0;34m\u001b[0m\u001b[0;34m\u001b[0m\u001b[0m\n\u001b[1;32m    688\u001b[0m                                in product(candidate_params,\n\u001b[0;32m--> 689\u001b[0;31m                                           cv.split(X, y, groups)))\n\u001b[0m\u001b[1;32m    690\u001b[0m \u001b[0;34m\u001b[0m\u001b[0m\n\u001b[1;32m    691\u001b[0m                 \u001b[0;32mif\u001b[0m \u001b[0mlen\u001b[0m\u001b[0;34m(\u001b[0m\u001b[0mout\u001b[0m\u001b[0;34m)\u001b[0m \u001b[0;34m<\u001b[0m \u001b[0;36m1\u001b[0m\u001b[0;34m:\u001b[0m\u001b[0;34m\u001b[0m\u001b[0;34m\u001b[0m\u001b[0m\n",
            "\u001b[0;32m/usr/local/lib/python3.6/dist-packages/joblib/parallel.py\u001b[0m in \u001b[0;36m__call__\u001b[0;34m(self, iterable)\u001b[0m\n\u001b[1;32m   1059\u001b[0m \u001b[0;34m\u001b[0m\u001b[0m\n\u001b[1;32m   1060\u001b[0m             \u001b[0;32mwith\u001b[0m \u001b[0mself\u001b[0m\u001b[0;34m.\u001b[0m\u001b[0m_backend\u001b[0m\u001b[0;34m.\u001b[0m\u001b[0mretrieval_context\u001b[0m\u001b[0;34m(\u001b[0m\u001b[0;34m)\u001b[0m\u001b[0;34m:\u001b[0m\u001b[0;34m\u001b[0m\u001b[0;34m\u001b[0m\u001b[0m\n\u001b[0;32m-> 1061\u001b[0;31m                 \u001b[0mself\u001b[0m\u001b[0;34m.\u001b[0m\u001b[0mretrieve\u001b[0m\u001b[0;34m(\u001b[0m\u001b[0;34m)\u001b[0m\u001b[0;34m\u001b[0m\u001b[0;34m\u001b[0m\u001b[0m\n\u001b[0m\u001b[1;32m   1062\u001b[0m             \u001b[0;31m# Make sure that we get a last message telling us we are done\u001b[0m\u001b[0;34m\u001b[0m\u001b[0;34m\u001b[0m\u001b[0;34m\u001b[0m\u001b[0m\n\u001b[1;32m   1063\u001b[0m             \u001b[0melapsed_time\u001b[0m \u001b[0;34m=\u001b[0m \u001b[0mtime\u001b[0m\u001b[0;34m.\u001b[0m\u001b[0mtime\u001b[0m\u001b[0;34m(\u001b[0m\u001b[0;34m)\u001b[0m \u001b[0;34m-\u001b[0m \u001b[0mself\u001b[0m\u001b[0;34m.\u001b[0m\u001b[0m_start_time\u001b[0m\u001b[0;34m\u001b[0m\u001b[0;34m\u001b[0m\u001b[0m\n",
            "\u001b[0;32m/usr/local/lib/python3.6/dist-packages/joblib/parallel.py\u001b[0m in \u001b[0;36mretrieve\u001b[0;34m(self)\u001b[0m\n\u001b[1;32m    938\u001b[0m             \u001b[0;32mtry\u001b[0m\u001b[0;34m:\u001b[0m\u001b[0;34m\u001b[0m\u001b[0;34m\u001b[0m\u001b[0m\n\u001b[1;32m    939\u001b[0m                 \u001b[0;32mif\u001b[0m \u001b[0mgetattr\u001b[0m\u001b[0;34m(\u001b[0m\u001b[0mself\u001b[0m\u001b[0;34m.\u001b[0m\u001b[0m_backend\u001b[0m\u001b[0;34m,\u001b[0m \u001b[0;34m'supports_timeout'\u001b[0m\u001b[0;34m,\u001b[0m \u001b[0;32mFalse\u001b[0m\u001b[0;34m)\u001b[0m\u001b[0;34m:\u001b[0m\u001b[0;34m\u001b[0m\u001b[0;34m\u001b[0m\u001b[0m\n\u001b[0;32m--> 940\u001b[0;31m                     \u001b[0mself\u001b[0m\u001b[0;34m.\u001b[0m\u001b[0m_output\u001b[0m\u001b[0;34m.\u001b[0m\u001b[0mextend\u001b[0m\u001b[0;34m(\u001b[0m\u001b[0mjob\u001b[0m\u001b[0;34m.\u001b[0m\u001b[0mget\u001b[0m\u001b[0;34m(\u001b[0m\u001b[0mtimeout\u001b[0m\u001b[0;34m=\u001b[0m\u001b[0mself\u001b[0m\u001b[0;34m.\u001b[0m\u001b[0mtimeout\u001b[0m\u001b[0;34m)\u001b[0m\u001b[0;34m)\u001b[0m\u001b[0;34m\u001b[0m\u001b[0;34m\u001b[0m\u001b[0m\n\u001b[0m\u001b[1;32m    941\u001b[0m                 \u001b[0;32melse\u001b[0m\u001b[0;34m:\u001b[0m\u001b[0;34m\u001b[0m\u001b[0;34m\u001b[0m\u001b[0m\n\u001b[1;32m    942\u001b[0m                     \u001b[0mself\u001b[0m\u001b[0;34m.\u001b[0m\u001b[0m_output\u001b[0m\u001b[0;34m.\u001b[0m\u001b[0mextend\u001b[0m\u001b[0;34m(\u001b[0m\u001b[0mjob\u001b[0m\u001b[0;34m.\u001b[0m\u001b[0mget\u001b[0m\u001b[0;34m(\u001b[0m\u001b[0;34m)\u001b[0m\u001b[0;34m)\u001b[0m\u001b[0;34m\u001b[0m\u001b[0;34m\u001b[0m\u001b[0m\n",
            "\u001b[0;32m/usr/local/lib/python3.6/dist-packages/joblib/_parallel_backends.py\u001b[0m in \u001b[0;36mwrap_future_result\u001b[0;34m(future, timeout)\u001b[0m\n\u001b[1;32m    540\u001b[0m         AsyncResults.get from multiprocessing.\"\"\"\n\u001b[1;32m    541\u001b[0m         \u001b[0;32mtry\u001b[0m\u001b[0;34m:\u001b[0m\u001b[0;34m\u001b[0m\u001b[0;34m\u001b[0m\u001b[0m\n\u001b[0;32m--> 542\u001b[0;31m             \u001b[0;32mreturn\u001b[0m \u001b[0mfuture\u001b[0m\u001b[0;34m.\u001b[0m\u001b[0mresult\u001b[0m\u001b[0;34m(\u001b[0m\u001b[0mtimeout\u001b[0m\u001b[0;34m=\u001b[0m\u001b[0mtimeout\u001b[0m\u001b[0;34m)\u001b[0m\u001b[0;34m\u001b[0m\u001b[0;34m\u001b[0m\u001b[0m\n\u001b[0m\u001b[1;32m    543\u001b[0m         \u001b[0;32mexcept\u001b[0m \u001b[0mCfTimeoutError\u001b[0m \u001b[0;32mas\u001b[0m \u001b[0me\u001b[0m\u001b[0;34m:\u001b[0m\u001b[0;34m\u001b[0m\u001b[0;34m\u001b[0m\u001b[0m\n\u001b[1;32m    544\u001b[0m             \u001b[0;32mraise\u001b[0m \u001b[0mTimeoutError\u001b[0m \u001b[0;32mfrom\u001b[0m \u001b[0me\u001b[0m\u001b[0;34m\u001b[0m\u001b[0;34m\u001b[0m\u001b[0m\n",
            "\u001b[0;32m/usr/lib/python3.6/concurrent/futures/_base.py\u001b[0m in \u001b[0;36mresult\u001b[0;34m(self, timeout)\u001b[0m\n\u001b[1;32m    425\u001b[0m                 \u001b[0;32mreturn\u001b[0m \u001b[0mself\u001b[0m\u001b[0;34m.\u001b[0m\u001b[0m__get_result\u001b[0m\u001b[0;34m(\u001b[0m\u001b[0;34m)\u001b[0m\u001b[0;34m\u001b[0m\u001b[0;34m\u001b[0m\u001b[0m\n\u001b[1;32m    426\u001b[0m \u001b[0;34m\u001b[0m\u001b[0m\n\u001b[0;32m--> 427\u001b[0;31m             \u001b[0mself\u001b[0m\u001b[0;34m.\u001b[0m\u001b[0m_condition\u001b[0m\u001b[0;34m.\u001b[0m\u001b[0mwait\u001b[0m\u001b[0;34m(\u001b[0m\u001b[0mtimeout\u001b[0m\u001b[0;34m)\u001b[0m\u001b[0;34m\u001b[0m\u001b[0;34m\u001b[0m\u001b[0m\n\u001b[0m\u001b[1;32m    428\u001b[0m \u001b[0;34m\u001b[0m\u001b[0m\n\u001b[1;32m    429\u001b[0m             \u001b[0;32mif\u001b[0m \u001b[0mself\u001b[0m\u001b[0;34m.\u001b[0m\u001b[0m_state\u001b[0m \u001b[0;32min\u001b[0m \u001b[0;34m[\u001b[0m\u001b[0mCANCELLED\u001b[0m\u001b[0;34m,\u001b[0m \u001b[0mCANCELLED_AND_NOTIFIED\u001b[0m\u001b[0;34m]\u001b[0m\u001b[0;34m:\u001b[0m\u001b[0;34m\u001b[0m\u001b[0;34m\u001b[0m\u001b[0m\n",
            "\u001b[0;32m/usr/lib/python3.6/threading.py\u001b[0m in \u001b[0;36mwait\u001b[0;34m(self, timeout)\u001b[0m\n\u001b[1;32m    293\u001b[0m         \u001b[0;32mtry\u001b[0m\u001b[0;34m:\u001b[0m    \u001b[0;31m# restore state no matter what (e.g., KeyboardInterrupt)\u001b[0m\u001b[0;34m\u001b[0m\u001b[0;34m\u001b[0m\u001b[0m\n\u001b[1;32m    294\u001b[0m             \u001b[0;32mif\u001b[0m \u001b[0mtimeout\u001b[0m \u001b[0;32mis\u001b[0m \u001b[0;32mNone\u001b[0m\u001b[0;34m:\u001b[0m\u001b[0;34m\u001b[0m\u001b[0;34m\u001b[0m\u001b[0m\n\u001b[0;32m--> 295\u001b[0;31m                 \u001b[0mwaiter\u001b[0m\u001b[0;34m.\u001b[0m\u001b[0macquire\u001b[0m\u001b[0;34m(\u001b[0m\u001b[0;34m)\u001b[0m\u001b[0;34m\u001b[0m\u001b[0;34m\u001b[0m\u001b[0m\n\u001b[0m\u001b[1;32m    296\u001b[0m                 \u001b[0mgotit\u001b[0m \u001b[0;34m=\u001b[0m \u001b[0;32mTrue\u001b[0m\u001b[0;34m\u001b[0m\u001b[0;34m\u001b[0m\u001b[0m\n\u001b[1;32m    297\u001b[0m             \u001b[0;32melse\u001b[0m\u001b[0;34m:\u001b[0m\u001b[0;34m\u001b[0m\u001b[0;34m\u001b[0m\u001b[0m\n",
            "\u001b[0;31mKeyboardInterrupt\u001b[0m: "
          ]
        }
      ]
    },
    {
      "cell_type": "code",
      "metadata": {
        "id": "iQZJkl1pA6L-",
        "colab": {
          "base_uri": "https://localhost:8080/",
          "height": 195
        },
        "outputId": "5cc76627-2512-43ae-e562-dd9bd31b47f7"
      },
      "source": [
        "results"
      ],
      "execution_count": 57,
      "outputs": [
        {
          "output_type": "execute_result",
          "data": {
            "text/html": [
              "<div>\n",
              "<style scoped>\n",
              "    .dataframe tbody tr th:only-of-type {\n",
              "        vertical-align: middle;\n",
              "    }\n",
              "\n",
              "    .dataframe tbody tr th {\n",
              "        vertical-align: top;\n",
              "    }\n",
              "\n",
              "    .dataframe thead th {\n",
              "        text-align: right;\n",
              "    }\n",
              "</style>\n",
              "<table border=\"1\" class=\"dataframe\">\n",
              "  <thead>\n",
              "    <tr style=\"text-align: right;\">\n",
              "      <th></th>\n",
              "      <th>ExpID</th>\n",
              "      <th>Train RMSE</th>\n",
              "      <th>Test RMSE</th>\n",
              "      <th>Test R2</th>\n",
              "    </tr>\n",
              "  </thead>\n",
              "  <tbody>\n",
              "    <tr>\n",
              "      <th>0</th>\n",
              "      <td>Baseline Linear Regression</td>\n",
              "      <td>0.6783</td>\n",
              "      <td>0.6811</td>\n",
              "      <td>0.4460</td>\n",
              "    </tr>\n",
              "    <tr>\n",
              "      <th>1</th>\n",
              "      <td>Linear Regression</td>\n",
              "      <td>0.4611</td>\n",
              "      <td>0.4646</td>\n",
              "      <td>0.4452</td>\n",
              "    </tr>\n",
              "    <tr>\n",
              "      <th>2</th>\n",
              "      <td>Gradient Boosting</td>\n",
              "      <td>0.2879</td>\n",
              "      <td>0.2848</td>\n",
              "      <td>0.6599</td>\n",
              "    </tr>\n",
              "    <tr>\n",
              "      <th>3</th>\n",
              "      <td>XGBoost</td>\n",
              "      <td>0.2778</td>\n",
              "      <td>0.2735</td>\n",
              "      <td>0.6734</td>\n",
              "    </tr>\n",
              "    <tr>\n",
              "      <th>4</th>\n",
              "      <td>Light GBM</td>\n",
              "      <td>0.2896</td>\n",
              "      <td>0.2910</td>\n",
              "      <td>0.6525</td>\n",
              "    </tr>\n",
              "  </tbody>\n",
              "</table>\n",
              "</div>"
            ],
            "text/plain": [
              "                        ExpID  Train RMSE  Test RMSE  Test R2\n",
              "0  Baseline Linear Regression      0.6783     0.6811   0.4460\n",
              "1           Linear Regression      0.4611     0.4646   0.4452\n",
              "2           Gradient Boosting      0.2879     0.2848   0.6599\n",
              "3                     XGBoost      0.2778     0.2735   0.6734\n",
              "4                   Light GBM      0.2896     0.2910   0.6525"
            ]
          },
          "metadata": {
            "tags": []
          },
          "execution_count": 57
        }
      ]
    },
    {
      "cell_type": "code",
      "metadata": {
        "id": "B5GxpvutXnQE",
        "colab": {
          "base_uri": "https://localhost:8080/"
        },
        "outputId": "0be2611d-cfb4-47ee-daf6-24c93bfb7b11"
      },
      "source": [
        "StopWatch.benchmark()"
      ],
      "execution_count": 56,
      "outputs": [
        {
          "output_type": "stream",
          "text": [
            "\n",
            "+---------------------+------------------------------------------------------------------+\n",
            "| Attribute           | Value                                                            |\n",
            "|---------------------+------------------------------------------------------------------|\n",
            "| BUG_REPORT_URL      | \"https://bugs.launchpad.net/ubuntu/\"                             |\n",
            "| DISTRIB_CODENAME    | bionic                                                           |\n",
            "| DISTRIB_DESCRIPTION | \"Ubuntu 18.04.5 LTS\"                                             |\n",
            "| DISTRIB_ID          | Ubuntu                                                           |\n",
            "| DISTRIB_RELEASE     | 18.04                                                            |\n",
            "| HOME_URL            | \"https://www.ubuntu.com/\"                                        |\n",
            "| ID                  | ubuntu                                                           |\n",
            "| ID_LIKE             | debian                                                           |\n",
            "| NAME                | \"Ubuntu\"                                                         |\n",
            "| PRETTY_NAME         | \"Ubuntu 18.04.5 LTS\"                                             |\n",
            "| PRIVACY_POLICY_URL  | \"https://www.ubuntu.com/legal/terms-and-policies/privacy-policy\" |\n",
            "| SUPPORT_URL         | \"https://help.ubuntu.com/\"                                       |\n",
            "| UBUNTU_CODENAME     | bionic                                                           |\n",
            "| VERSION             | \"18.04.5 LTS (Bionic Beaver)\"                                    |\n",
            "| VERSION_CODENAME    | bionic                                                           |\n",
            "| VERSION_ID          | \"18.04\"                                                          |\n",
            "| cpu_count           | 2                                                                |\n",
            "| mem.active          | 1.0 GiB                                                          |\n",
            "| mem.available       | 11.2 GiB                                                         |\n",
            "| mem.free            | 8.5 GiB                                                          |\n",
            "| mem.inactive        | 2.6 GiB                                                          |\n",
            "| mem.percent         | 11.6 %                                                           |\n",
            "| mem.total           | 12.7 GiB                                                         |\n",
            "| mem.used            | 1.9 GiB                                                          |\n",
            "| platform.version    | #1 SMP Thu Jul 23 08:00:38 PDT 2020                              |\n",
            "| python              | 3.6.9 (default, Oct  8 2020, 12:12:24)                           |\n",
            "|                     | [GCC 8.4.0]                                                      |\n",
            "| python.pip          | 19.3.1                                                           |\n",
            "| python.version      | 3.6.9                                                            |\n",
            "| sys.platform        | linux                                                            |\n",
            "| uname.machine       | x86_64                                                           |\n",
            "| uname.node          | a1f46a7ed3c2                                                     |\n",
            "| uname.processor     | x86_64                                                           |\n",
            "| uname.release       | 4.19.112+                                                        |\n",
            "| uname.system        | Linux                                                            |\n",
            "| uname.version       | #1 SMP Thu Jul 23 08:00:38 PDT 2020                              |\n",
            "| user                | collab                                                           |\n",
            "+---------------------+------------------------------------------------------------------+\n",
            "\n",
            "+------------------------------+----------+----------+----------+---------------------+-------+--------------+--------+-------+-------------------------------------+\n",
            "| Name                         | Status   |     Time |      Sum | Start               | tag   | Node         | User   | OS    | Version                             |\n",
            "|------------------------------+----------+----------+----------+---------------------+-------+--------------+--------+-------+-------------------------------------|\n",
            "| Data download                | ok       |    2.652 |    2.652 | 2020-11-30 12:43:50 |       | a1f46a7ed3c2 | collab | Linux | #1 SMP Thu Jul 23 08:00:38 PDT 2020 |\n",
            "| Data load                    | ok       |    0.074 |    0.074 | 2020-11-30 12:43:53 |       | a1f46a7ed3c2 | collab | Linux | #1 SMP Thu Jul 23 08:00:38 PDT 2020 |\n",
            "| Data preprocessing           | ok       |   67.618 |   67.618 | 2020-11-30 12:43:53 |       | a1f46a7ed3c2 | collab | Linux | #1 SMP Thu Jul 23 08:00:38 PDT 2020 |\n",
            "| Baseline Linear Regression   | ok       |    2.814 |    2.814 | 2020-11-30 12:45:03 |       | a1f46a7ed3c2 | collab | Linux | #1 SMP Thu Jul 23 08:00:38 PDT 2020 |\n",
            "| Linear Regression            | ok       |    5.581 |    5.581 | 2020-11-30 12:45:06 |       | a1f46a7ed3c2 | collab | Linux | #1 SMP Thu Jul 23 08:00:38 PDT 2020 |\n",
            "| Gradient Boosting            | ok       |  244.868 |  244.868 | 2020-11-30 12:45:12 |       | a1f46a7ed3c2 | collab | Linux | #1 SMP Thu Jul 23 08:00:38 PDT 2020 |\n",
            "| XGBoost                      | ok       | 2946.7   | 2946.7   | 2020-11-30 12:49:16 |       | a1f46a7ed3c2 | collab | Linux | #1 SMP Thu Jul 23 08:00:38 PDT 2020 |\n",
            "| Light GBM                    | ok       |  770.967 |  770.967 | 2020-11-30 13:38:23 |       | a1f46a7ed3c2 | collab | Linux | #1 SMP Thu Jul 23 08:00:38 PDT 2020 |\n",
            "| Linear Regression training   | ok       |    5.451 |    5.451 | 2020-11-30 14:17:07 |       | a1f46a7ed3c2 | collab | Linux | #1 SMP Thu Jul 23 08:00:38 PDT 2020 |\n",
            "| Linear Regression prediction | ok       |    0.025 |    0.025 | 2020-11-30 14:17:13 |       | a1f46a7ed3c2 | collab | Linux | #1 SMP Thu Jul 23 08:00:38 PDT 2020 |\n",
            "| Gradient Boosting training   | ok       |  252.003 |  252.003 | 2020-11-30 14:17:13 |       | a1f46a7ed3c2 | collab | Linux | #1 SMP Thu Jul 23 08:00:38 PDT 2020 |\n",
            "| Gradient Boosting prediction | ok       |    0.053 |    0.053 | 2020-11-30 14:21:25 |       | a1f46a7ed3c2 | collab | Linux | #1 SMP Thu Jul 23 08:00:38 PDT 2020 |\n",
            "| XGBoost training             | ok       | 3035.31  | 3035.31  | 2020-11-30 14:21:25 |       | a1f46a7ed3c2 | collab | Linux | #1 SMP Thu Jul 23 08:00:38 PDT 2020 |\n",
            "| XGBoost prediction           | ok       |    0.07  |    0.07  | 2020-11-30 15:12:00 |       | a1f46a7ed3c2 | collab | Linux | #1 SMP Thu Jul 23 08:00:38 PDT 2020 |\n",
            "| Light GBM training           | ok       |  783.326 |  783.326 | 2020-11-30 15:12:00 |       | a1f46a7ed3c2 | collab | Linux | #1 SMP Thu Jul 23 08:00:38 PDT 2020 |\n",
            "| Light GBM prediction         | ok       |    0.047 |    0.047 | 2020-11-30 15:25:04 |       | a1f46a7ed3c2 | collab | Linux | #1 SMP Thu Jul 23 08:00:38 PDT 2020 |\n",
            "+------------------------------+----------+----------+----------+---------------------+-------+--------------+--------+-------+-------------------------------------+\n",
            "\n",
            "# csv,timer,status,time,sum,start,tag,uname.node,user,uname.system,platform.version\n",
            "# csv,Data download,ok,2.652,2.652,2020-11-30 12:43:50,,a1f46a7ed3c2,collab,Linux,#1 SMP Thu Jul 23 08:00:38 PDT 2020\n",
            "# csv,Data load,ok,0.074,0.074,2020-11-30 12:43:53,,a1f46a7ed3c2,collab,Linux,#1 SMP Thu Jul 23 08:00:38 PDT 2020\n",
            "# csv,Data preprocessing,ok,67.618,67.618,2020-11-30 12:43:53,,a1f46a7ed3c2,collab,Linux,#1 SMP Thu Jul 23 08:00:38 PDT 2020\n",
            "# csv,Baseline Linear Regression,ok,2.814,2.814,2020-11-30 12:45:03,,a1f46a7ed3c2,collab,Linux,#1 SMP Thu Jul 23 08:00:38 PDT 2020\n",
            "# csv,Linear Regression,ok,5.581,5.581,2020-11-30 12:45:06,,a1f46a7ed3c2,collab,Linux,#1 SMP Thu Jul 23 08:00:38 PDT 2020\n",
            "# csv,Gradient Boosting,ok,244.868,244.868,2020-11-30 12:45:12,,a1f46a7ed3c2,collab,Linux,#1 SMP Thu Jul 23 08:00:38 PDT 2020\n",
            "# csv,XGBoost,ok,2946.696,2946.696,2020-11-30 12:49:16,,a1f46a7ed3c2,collab,Linux,#1 SMP Thu Jul 23 08:00:38 PDT 2020\n",
            "# csv,Light GBM,ok,770.967,770.967,2020-11-30 13:38:23,,a1f46a7ed3c2,collab,Linux,#1 SMP Thu Jul 23 08:00:38 PDT 2020\n",
            "# csv,Linear Regression training,ok,5.451,5.451,2020-11-30 14:17:07,,a1f46a7ed3c2,collab,Linux,#1 SMP Thu Jul 23 08:00:38 PDT 2020\n",
            "# csv,Linear Regression prediction,ok,0.025,0.025,2020-11-30 14:17:13,,a1f46a7ed3c2,collab,Linux,#1 SMP Thu Jul 23 08:00:38 PDT 2020\n",
            "# csv,Gradient Boosting training,ok,252.003,252.003,2020-11-30 14:17:13,,a1f46a7ed3c2,collab,Linux,#1 SMP Thu Jul 23 08:00:38 PDT 2020\n",
            "# csv,Gradient Boosting prediction,ok,0.053,0.053,2020-11-30 14:21:25,,a1f46a7ed3c2,collab,Linux,#1 SMP Thu Jul 23 08:00:38 PDT 2020\n",
            "# csv,XGBoost training,ok,3035.311,3035.311,2020-11-30 14:21:25,,a1f46a7ed3c2,collab,Linux,#1 SMP Thu Jul 23 08:00:38 PDT 2020\n",
            "# csv,XGBoost prediction,ok,0.07,0.07,2020-11-30 15:12:00,,a1f46a7ed3c2,collab,Linux,#1 SMP Thu Jul 23 08:00:38 PDT 2020\n",
            "# csv,Light GBM training,ok,783.326,783.326,2020-11-30 15:12:00,,a1f46a7ed3c2,collab,Linux,#1 SMP Thu Jul 23 08:00:38 PDT 2020\n",
            "# csv,Light GBM prediction,ok,0.047,0.047,2020-11-30 15:25:04,,a1f46a7ed3c2,collab,Linux,#1 SMP Thu Jul 23 08:00:38 PDT 2020\n",
            "\n"
          ],
          "name": "stdout"
        }
      ]
    }
  ]
}