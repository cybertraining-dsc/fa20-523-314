{
  "nbformat": 4,
  "nbformat_minor": 0,
  "metadata": {
    "colab": {
      "name": "residential_power_usage_prediction.ipynb",
      "provenance": [],
      "collapsed_sections": [],
      "toc_visible": true
    },
    "kernelspec": {
      "name": "python3",
      "display_name": "Python 3"
    }
  },
  "cells": [
    {
      "cell_type": "code",
      "metadata": {
        "id": "07XDnUUGeCZL"
      },
      "source": [
        "import os\n",
        "import zipfile\n",
        "import numpy as np\n",
        "import pandas as pd\n",
        "import seaborn as sns\n",
        "from google.colab import drive\n",
        "import matplotlib.pyplot as plt"
      ],
      "execution_count": null,
      "outputs": []
    },
    {
      "cell_type": "code",
      "metadata": {
        "colab": {
          "base_uri": "https://localhost:8080/"
        },
        "id": "zbe-TgkDmrB0",
        "outputId": "3f837655-8209-44c8-9b7c-2a2986f98b8f"
      },
      "source": [
        "#drive.mount('/content/drive', force_remount=True)\n",
        "%cd /content/drive/My Drive/BigData_Project/Data"
      ],
      "execution_count": null,
      "outputs": [
        {
          "output_type": "stream",
          "text": [
            "/content/drive/My Drive/BigData_Project/Data\n"
          ],
          "name": "stdout"
        }
      ]
    },
    {
      "cell_type": "markdown",
      "metadata": {
        "id": "ISK_yCHe-QY3"
      },
      "source": [
        "## Download datasets"
      ]
    },
    {
      "cell_type": "code",
      "metadata": {
        "id": "962rhRQInPK-"
      },
      "source": [
        "#!pip install kaggle"
      ],
      "execution_count": null,
      "outputs": []
    },
    {
      "cell_type": "code",
      "metadata": {
        "id": "wUVqxZAq4sPe"
      },
      "source": [
        "if not os.path.exists('residential-power-usage-3years-data-timeseries.zip'):\n",
        "  os.environ['KAGGLE_CONFIG_DIR'] = \"/content/drive/My Drive/BigData_Project\" # put path for wherever you put it\n",
        "  !mkdir ~/.kaggle\n",
        "  !cp /content/drive/'My Drive'/BigData_Project/kaggle.json ~/.kaggle\n",
        "  !chmod 600 ~/.kaggle/kaggle.json\n",
        "  !kaggle datasets download -d srinuti/residential-power-usage-3years-data-timeseries"
      ],
      "execution_count": null,
      "outputs": []
    },
    {
      "cell_type": "markdown",
      "metadata": {
        "id": "pNeY-b2OJb2e"
      },
      "source": [
        "## Load datasets"
      ]
    },
    {
      "cell_type": "code",
      "metadata": {
        "id": "wTP9VUHHB8CB"
      },
      "source": [
        "data_path = os.getcwd()"
      ],
      "execution_count": null,
      "outputs": []
    },
    {
      "cell_type": "code",
      "metadata": {
        "id": "6cQlj9yO9AMP"
      },
      "source": [
        "unzippingReq = False #please modify this flag unzippingReq from False to True \n",
        "if unzippingReq: #please modify this code unzippingReq from False to True \n",
        "\n",
        "    file_name = data_path  + '/residential-power-usage-3years-data-timeseries.zip'\n",
        "    zip_ref = zipfile.ZipFile(file_name, 'r')\n",
        "    zip_ref.extractall(path=data_path)\n",
        "    zip_ref.close()"
      ],
      "execution_count": null,
      "outputs": []
    },
    {
      "cell_type": "code",
      "metadata": {
        "id": "wpE3er-zCUPX"
      },
      "source": [
        "if len(os.listdir()) > 0:\n",
        "  power_usage = pd.read_csv('power_usage_2016_to_2020.csv')\n",
        "  weather = pd.read_csv('weather_2016_2020_daily.csv')"
      ],
      "execution_count": null,
      "outputs": []
    },
    {
      "cell_type": "markdown",
      "metadata": {
        "id": "XmcabqiGDpcg"
      },
      "source": [
        "## Data descriptive analysis"
      ]
    },
    {
      "cell_type": "code",
      "metadata": {
        "colab": {
          "base_uri": "https://localhost:8080/",
          "height": 787
        },
        "id": "rkLmGwO_Dolv",
        "outputId": "cdb44ac5-2ecf-4d4f-b516-84d533760606"
      },
      "source": [
        "power_usage.head(25)"
      ],
      "execution_count": null,
      "outputs": [
        {
          "output_type": "execute_result",
          "data": {
            "text/html": [
              "<div>\n",
              "<style scoped>\n",
              "    .dataframe tbody tr th:only-of-type {\n",
              "        vertical-align: middle;\n",
              "    }\n",
              "\n",
              "    .dataframe tbody tr th {\n",
              "        vertical-align: top;\n",
              "    }\n",
              "\n",
              "    .dataframe thead th {\n",
              "        text-align: right;\n",
              "    }\n",
              "</style>\n",
              "<table border=\"1\" class=\"dataframe\">\n",
              "  <thead>\n",
              "    <tr style=\"text-align: right;\">\n",
              "      <th></th>\n",
              "      <th>StartDate</th>\n",
              "      <th>Value (kWh)</th>\n",
              "      <th>day_of_week</th>\n",
              "      <th>notes</th>\n",
              "    </tr>\n",
              "  </thead>\n",
              "  <tbody>\n",
              "    <tr>\n",
              "      <th>0</th>\n",
              "      <td>2016-01-06 00:00:00</td>\n",
              "      <td>1.057</td>\n",
              "      <td>2</td>\n",
              "      <td>weekday</td>\n",
              "    </tr>\n",
              "    <tr>\n",
              "      <th>1</th>\n",
              "      <td>2016-01-06 01:00:00</td>\n",
              "      <td>1.171</td>\n",
              "      <td>2</td>\n",
              "      <td>weekday</td>\n",
              "    </tr>\n",
              "    <tr>\n",
              "      <th>2</th>\n",
              "      <td>2016-01-06 02:00:00</td>\n",
              "      <td>0.560</td>\n",
              "      <td>2</td>\n",
              "      <td>weekday</td>\n",
              "    </tr>\n",
              "    <tr>\n",
              "      <th>3</th>\n",
              "      <td>2016-01-06 03:00:00</td>\n",
              "      <td>0.828</td>\n",
              "      <td>2</td>\n",
              "      <td>weekday</td>\n",
              "    </tr>\n",
              "    <tr>\n",
              "      <th>4</th>\n",
              "      <td>2016-01-06 04:00:00</td>\n",
              "      <td>0.932</td>\n",
              "      <td>2</td>\n",
              "      <td>weekday</td>\n",
              "    </tr>\n",
              "    <tr>\n",
              "      <th>5</th>\n",
              "      <td>2016-01-06 05:00:00</td>\n",
              "      <td>0.333</td>\n",
              "      <td>2</td>\n",
              "      <td>weekday</td>\n",
              "    </tr>\n",
              "    <tr>\n",
              "      <th>6</th>\n",
              "      <td>2016-01-06 06:00:00</td>\n",
              "      <td>0.462</td>\n",
              "      <td>2</td>\n",
              "      <td>weekday</td>\n",
              "    </tr>\n",
              "    <tr>\n",
              "      <th>7</th>\n",
              "      <td>2016-01-06 07:00:00</td>\n",
              "      <td>0.493</td>\n",
              "      <td>2</td>\n",
              "      <td>weekday</td>\n",
              "    </tr>\n",
              "    <tr>\n",
              "      <th>8</th>\n",
              "      <td>2016-01-06 08:00:00</td>\n",
              "      <td>0.325</td>\n",
              "      <td>2</td>\n",
              "      <td>weekday</td>\n",
              "    </tr>\n",
              "    <tr>\n",
              "      <th>9</th>\n",
              "      <td>2016-01-06 09:00:00</td>\n",
              "      <td>0.294</td>\n",
              "      <td>2</td>\n",
              "      <td>weekday</td>\n",
              "    </tr>\n",
              "    <tr>\n",
              "      <th>10</th>\n",
              "      <td>2016-01-06 10:00:00</td>\n",
              "      <td>0.273</td>\n",
              "      <td>2</td>\n",
              "      <td>weekday</td>\n",
              "    </tr>\n",
              "    <tr>\n",
              "      <th>11</th>\n",
              "      <td>2016-01-06 11:00:00</td>\n",
              "      <td>0.723</td>\n",
              "      <td>2</td>\n",
              "      <td>weekday</td>\n",
              "    </tr>\n",
              "    <tr>\n",
              "      <th>12</th>\n",
              "      <td>2016-01-06 12:00:00</td>\n",
              "      <td>0.426</td>\n",
              "      <td>2</td>\n",
              "      <td>weekday</td>\n",
              "    </tr>\n",
              "    <tr>\n",
              "      <th>13</th>\n",
              "      <td>2016-01-06 13:00:00</td>\n",
              "      <td>0.421</td>\n",
              "      <td>2</td>\n",
              "      <td>weekday</td>\n",
              "    </tr>\n",
              "    <tr>\n",
              "      <th>14</th>\n",
              "      <td>2016-01-06 14:00:00</td>\n",
              "      <td>0.447</td>\n",
              "      <td>2</td>\n",
              "      <td>weekday</td>\n",
              "    </tr>\n",
              "    <tr>\n",
              "      <th>15</th>\n",
              "      <td>2016-01-06 15:00:00</td>\n",
              "      <td>0.496</td>\n",
              "      <td>2</td>\n",
              "      <td>weekday</td>\n",
              "    </tr>\n",
              "    <tr>\n",
              "      <th>16</th>\n",
              "      <td>2016-01-06 16:00:00</td>\n",
              "      <td>0.523</td>\n",
              "      <td>2</td>\n",
              "      <td>weekday</td>\n",
              "    </tr>\n",
              "    <tr>\n",
              "      <th>17</th>\n",
              "      <td>2016-01-06 17:00:00</td>\n",
              "      <td>3.647</td>\n",
              "      <td>2</td>\n",
              "      <td>weekday</td>\n",
              "    </tr>\n",
              "    <tr>\n",
              "      <th>18</th>\n",
              "      <td>2016-01-06 18:00:00</td>\n",
              "      <td>3.018</td>\n",
              "      <td>2</td>\n",
              "      <td>weekday</td>\n",
              "    </tr>\n",
              "    <tr>\n",
              "      <th>19</th>\n",
              "      <td>2016-01-06 19:00:00</td>\n",
              "      <td>3.326</td>\n",
              "      <td>2</td>\n",
              "      <td>weekday</td>\n",
              "    </tr>\n",
              "    <tr>\n",
              "      <th>20</th>\n",
              "      <td>2016-01-06 20:00:00</td>\n",
              "      <td>2.175</td>\n",
              "      <td>2</td>\n",
              "      <td>weekday</td>\n",
              "    </tr>\n",
              "    <tr>\n",
              "      <th>21</th>\n",
              "      <td>2016-01-06 21:00:00</td>\n",
              "      <td>2.973</td>\n",
              "      <td>2</td>\n",
              "      <td>weekday</td>\n",
              "    </tr>\n",
              "    <tr>\n",
              "      <th>22</th>\n",
              "      <td>2016-01-06 22:00:00</td>\n",
              "      <td>2.994</td>\n",
              "      <td>2</td>\n",
              "      <td>weekday</td>\n",
              "    </tr>\n",
              "    <tr>\n",
              "      <th>23</th>\n",
              "      <td>2016-01-06 23:00:00</td>\n",
              "      <td>1.794</td>\n",
              "      <td>2</td>\n",
              "      <td>weekday</td>\n",
              "    </tr>\n",
              "    <tr>\n",
              "      <th>24</th>\n",
              "      <td>2016-02-06 00:00:00</td>\n",
              "      <td>1.281</td>\n",
              "      <td>5</td>\n",
              "      <td>weekend</td>\n",
              "    </tr>\n",
              "  </tbody>\n",
              "</table>\n",
              "</div>"
            ],
            "text/plain": [
              "              StartDate  Value (kWh)  day_of_week    notes\n",
              "0   2016-01-06 00:00:00        1.057            2  weekday\n",
              "1   2016-01-06 01:00:00        1.171            2  weekday\n",
              "2   2016-01-06 02:00:00        0.560            2  weekday\n",
              "3   2016-01-06 03:00:00        0.828            2  weekday\n",
              "4   2016-01-06 04:00:00        0.932            2  weekday\n",
              "5   2016-01-06 05:00:00        0.333            2  weekday\n",
              "6   2016-01-06 06:00:00        0.462            2  weekday\n",
              "7   2016-01-06 07:00:00        0.493            2  weekday\n",
              "8   2016-01-06 08:00:00        0.325            2  weekday\n",
              "9   2016-01-06 09:00:00        0.294            2  weekday\n",
              "10  2016-01-06 10:00:00        0.273            2  weekday\n",
              "11  2016-01-06 11:00:00        0.723            2  weekday\n",
              "12  2016-01-06 12:00:00        0.426            2  weekday\n",
              "13  2016-01-06 13:00:00        0.421            2  weekday\n",
              "14  2016-01-06 14:00:00        0.447            2  weekday\n",
              "15  2016-01-06 15:00:00        0.496            2  weekday\n",
              "16  2016-01-06 16:00:00        0.523            2  weekday\n",
              "17  2016-01-06 17:00:00        3.647            2  weekday\n",
              "18  2016-01-06 18:00:00        3.018            2  weekday\n",
              "19  2016-01-06 19:00:00        3.326            2  weekday\n",
              "20  2016-01-06 20:00:00        2.175            2  weekday\n",
              "21  2016-01-06 21:00:00        2.973            2  weekday\n",
              "22  2016-01-06 22:00:00        2.994            2  weekday\n",
              "23  2016-01-06 23:00:00        1.794            2  weekday\n",
              "24  2016-02-06 00:00:00        1.281            5  weekend"
            ]
          },
          "metadata": {
            "tags": []
          },
          "execution_count": 53
        }
      ]
    },
    {
      "cell_type": "code",
      "metadata": {
        "colab": {
          "base_uri": "https://localhost:8080/",
          "height": 299
        },
        "id": "-GZUedIVEHaR",
        "outputId": "524ab7e6-09c2-40b1-817f-53fb735b825f"
      },
      "source": [
        "weather.head()"
      ],
      "execution_count": null,
      "outputs": [
        {
          "output_type": "execute_result",
          "data": {
            "text/html": [
              "<div>\n",
              "<style scoped>\n",
              "    .dataframe tbody tr th:only-of-type {\n",
              "        vertical-align: middle;\n",
              "    }\n",
              "\n",
              "    .dataframe tbody tr th {\n",
              "        vertical-align: top;\n",
              "    }\n",
              "\n",
              "    .dataframe thead th {\n",
              "        text-align: right;\n",
              "    }\n",
              "</style>\n",
              "<table border=\"1\" class=\"dataframe\">\n",
              "  <thead>\n",
              "    <tr style=\"text-align: right;\">\n",
              "      <th></th>\n",
              "      <th>Date</th>\n",
              "      <th>Day</th>\n",
              "      <th>Temp_max</th>\n",
              "      <th>Temp_avg</th>\n",
              "      <th>Temp_min</th>\n",
              "      <th>Dew_max</th>\n",
              "      <th>Dew_avg</th>\n",
              "      <th>Dew_min</th>\n",
              "      <th>Hum_max</th>\n",
              "      <th>Hum_avg</th>\n",
              "      <th>Hum_min</th>\n",
              "      <th>Wind_max</th>\n",
              "      <th>Wind_avg</th>\n",
              "      <th>Wind_min</th>\n",
              "      <th>Press_max</th>\n",
              "      <th>Press_avg</th>\n",
              "      <th>Press_min</th>\n",
              "      <th>Precipit</th>\n",
              "      <th>day_of_week</th>\n",
              "    </tr>\n",
              "  </thead>\n",
              "  <tbody>\n",
              "    <tr>\n",
              "      <th>0</th>\n",
              "      <td>2016-01-06</td>\n",
              "      <td>1</td>\n",
              "      <td>85</td>\n",
              "      <td>74.8</td>\n",
              "      <td>68</td>\n",
              "      <td>74</td>\n",
              "      <td>71.4</td>\n",
              "      <td>66</td>\n",
              "      <td>100</td>\n",
              "      <td>89.4</td>\n",
              "      <td>65</td>\n",
              "      <td>21</td>\n",
              "      <td>9.5</td>\n",
              "      <td>0</td>\n",
              "      <td>29.8</td>\n",
              "      <td>29.8</td>\n",
              "      <td>29.7</td>\n",
              "      <td>0.00</td>\n",
              "      <td>2</td>\n",
              "    </tr>\n",
              "    <tr>\n",
              "      <th>1</th>\n",
              "      <td>2016-02-06</td>\n",
              "      <td>2</td>\n",
              "      <td>76</td>\n",
              "      <td>71.2</td>\n",
              "      <td>66</td>\n",
              "      <td>74</td>\n",
              "      <td>70.3</td>\n",
              "      <td>66</td>\n",
              "      <td>100</td>\n",
              "      <td>96.8</td>\n",
              "      <td>89</td>\n",
              "      <td>18</td>\n",
              "      <td>7.8</td>\n",
              "      <td>0</td>\n",
              "      <td>29.8</td>\n",
              "      <td>29.8</td>\n",
              "      <td>29.7</td>\n",
              "      <td>4.33</td>\n",
              "      <td>5</td>\n",
              "    </tr>\n",
              "    <tr>\n",
              "      <th>2</th>\n",
              "      <td>2016-03-06</td>\n",
              "      <td>3</td>\n",
              "      <td>79</td>\n",
              "      <td>72.1</td>\n",
              "      <td>68</td>\n",
              "      <td>72</td>\n",
              "      <td>70.0</td>\n",
              "      <td>68</td>\n",
              "      <td>100</td>\n",
              "      <td>93.6</td>\n",
              "      <td>72</td>\n",
              "      <td>18</td>\n",
              "      <td>4.7</td>\n",
              "      <td>0</td>\n",
              "      <td>29.8</td>\n",
              "      <td>29.8</td>\n",
              "      <td>29.7</td>\n",
              "      <td>3.18</td>\n",
              "      <td>6</td>\n",
              "    </tr>\n",
              "    <tr>\n",
              "      <th>3</th>\n",
              "      <td>2016-04-06</td>\n",
              "      <td>4</td>\n",
              "      <td>76</td>\n",
              "      <td>71.2</td>\n",
              "      <td>69</td>\n",
              "      <td>73</td>\n",
              "      <td>70.0</td>\n",
              "      <td>66</td>\n",
              "      <td>100</td>\n",
              "      <td>96.1</td>\n",
              "      <td>85</td>\n",
              "      <td>20</td>\n",
              "      <td>7.0</td>\n",
              "      <td>0</td>\n",
              "      <td>29.8</td>\n",
              "      <td>29.7</td>\n",
              "      <td>29.7</td>\n",
              "      <td>2.37</td>\n",
              "      <td>2</td>\n",
              "    </tr>\n",
              "    <tr>\n",
              "      <th>4</th>\n",
              "      <td>2016-05-06</td>\n",
              "      <td>5</td>\n",
              "      <td>82</td>\n",
              "      <td>73.8</td>\n",
              "      <td>68</td>\n",
              "      <td>72</td>\n",
              "      <td>70.0</td>\n",
              "      <td>68</td>\n",
              "      <td>100</td>\n",
              "      <td>88.7</td>\n",
              "      <td>62</td>\n",
              "      <td>17</td>\n",
              "      <td>7.7</td>\n",
              "      <td>0</td>\n",
              "      <td>29.7</td>\n",
              "      <td>29.7</td>\n",
              "      <td>29.7</td>\n",
              "      <td>0.39</td>\n",
              "      <td>4</td>\n",
              "    </tr>\n",
              "  </tbody>\n",
              "</table>\n",
              "</div>"
            ],
            "text/plain": [
              "         Date  Day  Temp_max  ...  Press_min  Precipit  day_of_week\n",
              "0  2016-01-06    1        85  ...       29.7      0.00            2\n",
              "1  2016-02-06    2        76  ...       29.7      4.33            5\n",
              "2  2016-03-06    3        79  ...       29.7      3.18            6\n",
              "3  2016-04-06    4        76  ...       29.7      2.37            2\n",
              "4  2016-05-06    5        82  ...       29.7      0.39            4\n",
              "\n",
              "[5 rows x 19 columns]"
            ]
          },
          "metadata": {
            "tags": []
          },
          "execution_count": 54
        }
      ]
    },
    {
      "cell_type": "code",
      "metadata": {
        "colab": {
          "base_uri": "https://localhost:8080/"
        },
        "id": "yHxLcaRPEOeE",
        "outputId": "81236036-8297-4d56-9845-566a3a80537c"
      },
      "source": [
        "print(power_usage.info())"
      ],
      "execution_count": null,
      "outputs": [
        {
          "output_type": "stream",
          "text": [
            "<class 'pandas.core.frame.DataFrame'>\n",
            "RangeIndex: 35952 entries, 0 to 35951\n",
            "Data columns (total 4 columns):\n",
            " #   Column       Non-Null Count  Dtype  \n",
            "---  ------       --------------  -----  \n",
            " 0   StartDate    35952 non-null  object \n",
            " 1   Value (kWh)  35952 non-null  float64\n",
            " 2   day_of_week  35952 non-null  int64  \n",
            " 3   notes        35952 non-null  object \n",
            "dtypes: float64(1), int64(1), object(2)\n",
            "memory usage: 1.1+ MB\n",
            "None\n"
          ],
          "name": "stdout"
        }
      ]
    },
    {
      "cell_type": "code",
      "metadata": {
        "colab": {
          "base_uri": "https://localhost:8080/"
        },
        "id": "RQgZuxwgEOn_",
        "outputId": "ce1a20cc-a06d-420d-86a3-309f41c8fcd9"
      },
      "source": [
        "print(weather.info())"
      ],
      "execution_count": null,
      "outputs": [
        {
          "output_type": "stream",
          "text": [
            "<class 'pandas.core.frame.DataFrame'>\n",
            "RangeIndex: 1552 entries, 0 to 1551\n",
            "Data columns (total 19 columns):\n",
            " #   Column       Non-Null Count  Dtype  \n",
            "---  ------       --------------  -----  \n",
            " 0   Date         1552 non-null   object \n",
            " 1   Day          1552 non-null   int64  \n",
            " 2   Temp_max     1552 non-null   int64  \n",
            " 3   Temp_avg     1552 non-null   float64\n",
            " 4   Temp_min     1552 non-null   int64  \n",
            " 5   Dew_max      1552 non-null   int64  \n",
            " 6   Dew_avg      1552 non-null   float64\n",
            " 7   Dew_min      1552 non-null   int64  \n",
            " 8   Hum_max      1552 non-null   int64  \n",
            " 9   Hum_avg      1552 non-null   float64\n",
            " 10  Hum_min      1552 non-null   int64  \n",
            " 11  Wind_max     1552 non-null   int64  \n",
            " 12  Wind_avg     1552 non-null   float64\n",
            " 13  Wind_min     1552 non-null   int64  \n",
            " 14  Press_max    1552 non-null   float64\n",
            " 15  Press_avg    1552 non-null   float64\n",
            " 16  Press_min    1552 non-null   float64\n",
            " 17  Precipit     1552 non-null   float64\n",
            " 18  day_of_week  1552 non-null   int64  \n",
            "dtypes: float64(8), int64(10), object(1)\n",
            "memory usage: 230.5+ KB\n",
            "None\n"
          ],
          "name": "stdout"
        }
      ]
    },
    {
      "cell_type": "code",
      "metadata": {
        "colab": {
          "base_uri": "https://localhost:8080/",
          "height": 284
        },
        "id": "PPH_78zcEOpu",
        "outputId": "b15e9795-cc5d-49ed-e5f9-35ed2b34773a"
      },
      "source": [
        "power_usage.describe()"
      ],
      "execution_count": null,
      "outputs": [
        {
          "output_type": "execute_result",
          "data": {
            "text/html": [
              "<div>\n",
              "<style scoped>\n",
              "    .dataframe tbody tr th:only-of-type {\n",
              "        vertical-align: middle;\n",
              "    }\n",
              "\n",
              "    .dataframe tbody tr th {\n",
              "        vertical-align: top;\n",
              "    }\n",
              "\n",
              "    .dataframe thead th {\n",
              "        text-align: right;\n",
              "    }\n",
              "</style>\n",
              "<table border=\"1\" class=\"dataframe\">\n",
              "  <thead>\n",
              "    <tr style=\"text-align: right;\">\n",
              "      <th></th>\n",
              "      <th>Value (kWh)</th>\n",
              "      <th>day_of_week</th>\n",
              "    </tr>\n",
              "  </thead>\n",
              "  <tbody>\n",
              "    <tr>\n",
              "      <th>count</th>\n",
              "      <td>35952.000000</td>\n",
              "      <td>35952.000000</td>\n",
              "    </tr>\n",
              "    <tr>\n",
              "      <th>mean</th>\n",
              "      <td>0.891631</td>\n",
              "      <td>2.997330</td>\n",
              "    </tr>\n",
              "    <tr>\n",
              "      <th>std</th>\n",
              "      <td>0.908133</td>\n",
              "      <td>1.999024</td>\n",
              "    </tr>\n",
              "    <tr>\n",
              "      <th>min</th>\n",
              "      <td>0.064000</td>\n",
              "      <td>0.000000</td>\n",
              "    </tr>\n",
              "    <tr>\n",
              "      <th>25%</th>\n",
              "      <td>0.323750</td>\n",
              "      <td>1.000000</td>\n",
              "    </tr>\n",
              "    <tr>\n",
              "      <th>50%</th>\n",
              "      <td>0.501000</td>\n",
              "      <td>3.000000</td>\n",
              "    </tr>\n",
              "    <tr>\n",
              "      <th>75%</th>\n",
              "      <td>1.072000</td>\n",
              "      <td>5.000000</td>\n",
              "    </tr>\n",
              "    <tr>\n",
              "      <th>max</th>\n",
              "      <td>6.446000</td>\n",
              "      <td>6.000000</td>\n",
              "    </tr>\n",
              "  </tbody>\n",
              "</table>\n",
              "</div>"
            ],
            "text/plain": [
              "        Value (kWh)   day_of_week\n",
              "count  35952.000000  35952.000000\n",
              "mean       0.891631      2.997330\n",
              "std        0.908133      1.999024\n",
              "min        0.064000      0.000000\n",
              "25%        0.323750      1.000000\n",
              "50%        0.501000      3.000000\n",
              "75%        1.072000      5.000000\n",
              "max        6.446000      6.000000"
            ]
          },
          "metadata": {
            "tags": []
          },
          "execution_count": 57
        }
      ]
    },
    {
      "cell_type": "code",
      "metadata": {
        "colab": {
          "base_uri": "https://localhost:8080/"
        },
        "id": "ogz9Lm5aEOvS",
        "outputId": "6ffe8489-0129-4873-d9f8-96d645691998"
      },
      "source": [
        "power_usage.notes.unique()"
      ],
      "execution_count": null,
      "outputs": [
        {
          "output_type": "execute_result",
          "data": {
            "text/plain": [
              "array(['weekday', 'weekend', 'vacation', 'COVID_lockdown'], dtype=object)"
            ]
          },
          "metadata": {
            "tags": []
          },
          "execution_count": 58
        }
      ]
    },
    {
      "cell_type": "markdown",
      "metadata": {
        "id": "KW6dc7JBEloJ"
      },
      "source": [
        "## Data Preprocessing"
      ]
    },
    {
      "cell_type": "markdown",
      "metadata": {
        "id": "fNIALL_FI9if"
      },
      "source": [
        "### Change column name"
      ]
    },
    {
      "cell_type": "code",
      "metadata": {
        "id": "FRBQCt-RI68L"
      },
      "source": [
        "power_usage.rename(columns={'Value (kWh)' : 'Value'}, inplace=True)"
      ],
      "execution_count": null,
      "outputs": []
    },
    {
      "cell_type": "markdown",
      "metadata": {
        "id": "ac91-2VAFrzA"
      },
      "source": [
        "### Change date format"
      ]
    },
    {
      "cell_type": "markdown",
      "metadata": {
        "id": "vY5prvJWEshp"
      },
      "source": [
        "The actual StartDate of data is from 2016-06-01(yyyy-mm-dd). In the dataset the dates are not properly formated. In the following steps the StartDate column is formated properly."
      ]
    },
    {
      "cell_type": "code",
      "metadata": {
        "id": "UulfPbnFEoG3"
      },
      "source": [
        "m = power_usage.shape[0]\n",
        "power_usage_date = pd.Series(range(m), pd.period_range('2016-06-01 00:00:00', freq = '1H', periods = m))\n",
        "power_usage['StartDate'] = power_usage_date.to_frame().index"
      ],
      "execution_count": null,
      "outputs": []
    },
    {
      "cell_type": "code",
      "metadata": {
        "id": "keoiJY11E0MO"
      },
      "source": [
        "m = weather.shape[0] \n",
        "weather_date = pd.Series(range(m), pd.period_range('2016-06-01', freq = '1D', periods = m))\n",
        "weather['Date'] = weather_date.to_frame().index"
      ],
      "execution_count": null,
      "outputs": []
    },
    {
      "cell_type": "markdown",
      "metadata": {
        "id": "bSw6CMcoFDjN"
      },
      "source": [
        "### Merge datasets"
      ]
    },
    {
      "cell_type": "markdown",
      "metadata": {
        "id": "FzE6MOBAFNAn"
      },
      "source": [
        "For the purpose of merging Datasets we can split the StartDate to Date and Hour columns."
      ]
    },
    {
      "cell_type": "code",
      "metadata": {
        "id": "1CzXZRulFFto"
      },
      "source": [
        "for idx, date in power_usage.iterrows():\n",
        "    power_usage.loc[idx, 'Date'] = power_usage.StartDate[idx].strftime('%Y-%m-%d')\n",
        "    power_usage.loc[idx, 'Hour'] = power_usage.StartDate[idx].strftime('%H:%M')\n",
        "\n",
        "power_usage.drop(['StartDate'], inplace=True, axis = 1)\n",
        "\n",
        "\n",
        "weather_date = []\n",
        "for idx, date in weather.iterrows():\n",
        "    weather_date.append(weather.Date[idx].strftime('%Y-%m-%d'))\n",
        "weather.Date = weather_date"
      ],
      "execution_count": null,
      "outputs": []
    },
    {
      "cell_type": "code",
      "metadata": {
        "id": "dT0SUwN-FUjz"
      },
      "source": [
        "df_main  = power_usage.merge(weather,  on = ['Date', 'day_of_week'])"
      ],
      "execution_count": null,
      "outputs": []
    },
    {
      "cell_type": "code",
      "metadata": {
        "colab": {
          "base_uri": "https://localhost:8080/"
        },
        "id": "fa5-r6xnFb9o",
        "outputId": "3cde416f-b533-4f4c-9e57-e512042f193b"
      },
      "source": [
        "print(f\"Shape of main table is {df_main.shape}\")\n",
        "print(f\"Shape of power_usage table is {power_usage.shape}\")\n",
        "print(f\"Shape of weather table is {weather.shape}\")"
      ],
      "execution_count": null,
      "outputs": [
        {
          "output_type": "stream",
          "text": [
            "Shape of main table is (35952, 22)\n",
            "Shape of power_usage table is (35952, 5)\n",
            "Shape of weather table is (1552, 19)\n"
          ],
          "name": "stdout"
        }
      ]
    },
    {
      "cell_type": "markdown",
      "metadata": {
        "id": "0h5mif2yFjn6"
      },
      "source": [
        "## Exploratory Data Analysis"
      ]
    },
    {
      "cell_type": "code",
      "metadata": {
        "colab": {
          "base_uri": "https://localhost:8080/",
          "height": 299
        },
        "id": "HtXqluSwFf5h",
        "outputId": "c343be36-7584-4ef7-9f38-2531d69a64a8"
      },
      "source": [
        "df_main.head()"
      ],
      "execution_count": null,
      "outputs": [
        {
          "output_type": "execute_result",
          "data": {
            "text/html": [
              "<div>\n",
              "<style scoped>\n",
              "    .dataframe tbody tr th:only-of-type {\n",
              "        vertical-align: middle;\n",
              "    }\n",
              "\n",
              "    .dataframe tbody tr th {\n",
              "        vertical-align: top;\n",
              "    }\n",
              "\n",
              "    .dataframe thead th {\n",
              "        text-align: right;\n",
              "    }\n",
              "</style>\n",
              "<table border=\"1\" class=\"dataframe\">\n",
              "  <thead>\n",
              "    <tr style=\"text-align: right;\">\n",
              "      <th></th>\n",
              "      <th>Value</th>\n",
              "      <th>day_of_week</th>\n",
              "      <th>notes</th>\n",
              "      <th>Date</th>\n",
              "      <th>Hour</th>\n",
              "      <th>Day</th>\n",
              "      <th>Temp_max</th>\n",
              "      <th>Temp_avg</th>\n",
              "      <th>Temp_min</th>\n",
              "      <th>Dew_max</th>\n",
              "      <th>Dew_avg</th>\n",
              "      <th>Dew_min</th>\n",
              "      <th>Hum_max</th>\n",
              "      <th>Hum_avg</th>\n",
              "      <th>Hum_min</th>\n",
              "      <th>Wind_max</th>\n",
              "      <th>Wind_avg</th>\n",
              "      <th>Wind_min</th>\n",
              "      <th>Press_max</th>\n",
              "      <th>Press_avg</th>\n",
              "      <th>Press_min</th>\n",
              "      <th>Precipit</th>\n",
              "    </tr>\n",
              "  </thead>\n",
              "  <tbody>\n",
              "    <tr>\n",
              "      <th>0</th>\n",
              "      <td>1.057</td>\n",
              "      <td>2</td>\n",
              "      <td>weekday</td>\n",
              "      <td>2016-06-01</td>\n",
              "      <td>00:00</td>\n",
              "      <td>1</td>\n",
              "      <td>85</td>\n",
              "      <td>74.8</td>\n",
              "      <td>68</td>\n",
              "      <td>74</td>\n",
              "      <td>71.4</td>\n",
              "      <td>66</td>\n",
              "      <td>100</td>\n",
              "      <td>89.4</td>\n",
              "      <td>65</td>\n",
              "      <td>21</td>\n",
              "      <td>9.5</td>\n",
              "      <td>0</td>\n",
              "      <td>29.8</td>\n",
              "      <td>29.8</td>\n",
              "      <td>29.7</td>\n",
              "      <td>0.0</td>\n",
              "    </tr>\n",
              "    <tr>\n",
              "      <th>1</th>\n",
              "      <td>1.171</td>\n",
              "      <td>2</td>\n",
              "      <td>weekday</td>\n",
              "      <td>2016-06-01</td>\n",
              "      <td>01:00</td>\n",
              "      <td>1</td>\n",
              "      <td>85</td>\n",
              "      <td>74.8</td>\n",
              "      <td>68</td>\n",
              "      <td>74</td>\n",
              "      <td>71.4</td>\n",
              "      <td>66</td>\n",
              "      <td>100</td>\n",
              "      <td>89.4</td>\n",
              "      <td>65</td>\n",
              "      <td>21</td>\n",
              "      <td>9.5</td>\n",
              "      <td>0</td>\n",
              "      <td>29.8</td>\n",
              "      <td>29.8</td>\n",
              "      <td>29.7</td>\n",
              "      <td>0.0</td>\n",
              "    </tr>\n",
              "    <tr>\n",
              "      <th>2</th>\n",
              "      <td>0.560</td>\n",
              "      <td>2</td>\n",
              "      <td>weekday</td>\n",
              "      <td>2016-06-01</td>\n",
              "      <td>02:00</td>\n",
              "      <td>1</td>\n",
              "      <td>85</td>\n",
              "      <td>74.8</td>\n",
              "      <td>68</td>\n",
              "      <td>74</td>\n",
              "      <td>71.4</td>\n",
              "      <td>66</td>\n",
              "      <td>100</td>\n",
              "      <td>89.4</td>\n",
              "      <td>65</td>\n",
              "      <td>21</td>\n",
              "      <td>9.5</td>\n",
              "      <td>0</td>\n",
              "      <td>29.8</td>\n",
              "      <td>29.8</td>\n",
              "      <td>29.7</td>\n",
              "      <td>0.0</td>\n",
              "    </tr>\n",
              "    <tr>\n",
              "      <th>3</th>\n",
              "      <td>0.828</td>\n",
              "      <td>2</td>\n",
              "      <td>weekday</td>\n",
              "      <td>2016-06-01</td>\n",
              "      <td>03:00</td>\n",
              "      <td>1</td>\n",
              "      <td>85</td>\n",
              "      <td>74.8</td>\n",
              "      <td>68</td>\n",
              "      <td>74</td>\n",
              "      <td>71.4</td>\n",
              "      <td>66</td>\n",
              "      <td>100</td>\n",
              "      <td>89.4</td>\n",
              "      <td>65</td>\n",
              "      <td>21</td>\n",
              "      <td>9.5</td>\n",
              "      <td>0</td>\n",
              "      <td>29.8</td>\n",
              "      <td>29.8</td>\n",
              "      <td>29.7</td>\n",
              "      <td>0.0</td>\n",
              "    </tr>\n",
              "    <tr>\n",
              "      <th>4</th>\n",
              "      <td>0.932</td>\n",
              "      <td>2</td>\n",
              "      <td>weekday</td>\n",
              "      <td>2016-06-01</td>\n",
              "      <td>04:00</td>\n",
              "      <td>1</td>\n",
              "      <td>85</td>\n",
              "      <td>74.8</td>\n",
              "      <td>68</td>\n",
              "      <td>74</td>\n",
              "      <td>71.4</td>\n",
              "      <td>66</td>\n",
              "      <td>100</td>\n",
              "      <td>89.4</td>\n",
              "      <td>65</td>\n",
              "      <td>21</td>\n",
              "      <td>9.5</td>\n",
              "      <td>0</td>\n",
              "      <td>29.8</td>\n",
              "      <td>29.8</td>\n",
              "      <td>29.7</td>\n",
              "      <td>0.0</td>\n",
              "    </tr>\n",
              "  </tbody>\n",
              "</table>\n",
              "</div>"
            ],
            "text/plain": [
              "   Value  day_of_week    notes  ... Press_avg Press_min  Precipit\n",
              "0  1.057            2  weekday  ...      29.8      29.7       0.0\n",
              "1  1.171            2  weekday  ...      29.8      29.7       0.0\n",
              "2  0.560            2  weekday  ...      29.8      29.7       0.0\n",
              "3  0.828            2  weekday  ...      29.8      29.7       0.0\n",
              "4  0.932            2  weekday  ...      29.8      29.7       0.0\n",
              "\n",
              "[5 rows x 22 columns]"
            ]
          },
          "metadata": {
            "tags": []
          },
          "execution_count": 65
        }
      ]
    },
    {
      "cell_type": "markdown",
      "metadata": {
        "id": "NSFr2QqXF7Ok"
      },
      "source": [
        "\n",
        "For better use of data , we can split Date into year, month, day columns. Since day column is already in the dataframe, we might just add year and month column."
      ]
    },
    {
      "cell_type": "code",
      "metadata": {
        "id": "dcM1ar2QFhOQ"
      },
      "source": [
        "df_main['year'] = df_main.Date.str.split('-', expand=True)[0]\n",
        "df_main['month'] = df_main.Date.str.split('-', expand=True)[1]\n",
        "df_main.drop(columns = ['Date'], inplace = True)"
      ],
      "execution_count": null,
      "outputs": []
    },
    {
      "cell_type": "code",
      "metadata": {
        "colab": {
          "base_uri": "https://localhost:8080/",
          "height": 366
        },
        "id": "6-MOdYLbGCE6",
        "outputId": "0016b5c8-00d2-4b1e-e004-d3753bbd5336"
      },
      "source": [
        "tod = sns.lineplot('notes', 'Value', data=df_main)\n",
        "plt.xlabel('Type of day')\n",
        "plt.ylabel('Avg Value(kWh)')\n",
        "plt.title('Average power usage by type of the day')\n",
        "#tod.get_figure().savefig(\"tod.png\")"
      ],
      "execution_count": null,
      "outputs": [
        {
          "output_type": "stream",
          "text": [
            "/usr/local/lib/python3.6/dist-packages/seaborn/_decorators.py:43: FutureWarning: Pass the following variables as keyword args: x, y. From version 0.12, the only valid positional argument will be `data`, and passing other arguments without an explicit keyword will result in an error or misinterpretation.\n",
            "  FutureWarning\n"
          ],
          "name": "stderr"
        },
        {
          "output_type": "execute_result",
          "data": {
            "text/plain": [
              "Text(0.5, 1.0, 'Average power usage by type of the day')"
            ]
          },
          "metadata": {
            "tags": []
          },
          "execution_count": 67
        },
        {
          "output_type": "display_data",
          "data": {
            "image/png": "[encoded data removed]",
            "text/plain": [
              "<Figure size 432x288 with 1 Axes>"
            ]
          },
          "metadata": {
            "tags": [],
            "needs_background": "light"
          }
        }
      ]
    },
    {
      "cell_type": "code",
      "metadata": {
        "colab": {
          "base_uri": "https://localhost:8080/",
          "height": 414
        },
        "id": "28XSDWyPGKQt",
        "outputId": "96f1db49-7ab9-4aca-90c2-910abec93c17"
      },
      "source": [
        "dow = sns.barplot('day_of_week', 'Value', data=df_main)\n",
        "dow.set_xticklabels(['Monday', 'Tuesday', 'Wednesday', 'Thursday', 'Friday', 'Saturday', 'Sunday'])\n",
        "plt.xlabel('Day of Week')\n",
        "plt.ylabel('Avg Value(kWh)')\n",
        "plt.title('Average power usage by day of the week')\n",
        "plt.xticks(rotation = 90)\n",
        "#dow.get_figure().savefig(\"dow.png\")"
      ],
      "execution_count": null,
      "outputs": [
        {
          "output_type": "stream",
          "text": [
            "/usr/local/lib/python3.6/dist-packages/seaborn/_decorators.py:43: FutureWarning: Pass the following variables as keyword args: x, y. From version 0.12, the only valid positional argument will be `data`, and passing other arguments without an explicit keyword will result in an error or misinterpretation.\n",
            "  FutureWarning\n"
          ],
          "name": "stderr"
        },
        {
          "output_type": "execute_result",
          "data": {
            "text/plain": [
              "(array([0, 1, 2, 3, 4, 5, 6]), <a list of 7 Text major ticklabel objects>)"
            ]
          },
          "metadata": {
            "tags": []
          },
          "execution_count": 68
        },
        {
          "output_type": "display_data",
          "data": {
            "image/png": "[encoded data removed]",
            "text/plain": [
              "<Figure size 432x288 with 1 Axes>"
            ]
          },
          "metadata": {
            "tags": [],
            "needs_background": "light"
          }
        }
      ]
    },
    {
      "cell_type": "code",
      "metadata": {
        "colab": {
          "base_uri": "https://localhost:8080/",
          "height": 312
        },
        "id": "b19-o_C2GNmG",
        "outputId": "b6ed8e07-c552-4e23-f269-30785fccf0ec"
      },
      "source": [
        "sns.lineplot(x = 'month', y = 'Value', data=df_main[df_main.year.astype(int) >= 2018], hue = 'year', ci = None)\n",
        "plt.legend(labels = ['2018', '2019', '2020'])\n",
        "plt.title('Monthly power usage of three years')\n",
        "plt.ylabel('Power usage(kWh)')\n",
        "#plt.savefig(\"monthly_power.png\")"
      ],
      "execution_count": null,
      "outputs": [
        {
          "output_type": "execute_result",
          "data": {
            "text/plain": [
              "Text(0, 0.5, 'Power usage(kWh)')"
            ]
          },
          "metadata": {
            "tags": []
          },
          "execution_count": 69
        },
        {
          "output_type": "display_data",
          "data": {
            "image/png": "[encoded data removed]",
            "text/plain": [
              "<Figure size 432x288 with 1 Axes>"
            ]
          },
          "metadata": {
            "tags": [],
            "needs_background": "light"
          }
        }
      ]
    },
    {
      "cell_type": "markdown",
      "metadata": {
        "id": "s3Z8M9YMGhNY"
      },
      "source": [
        "## Data Modelling"
      ]
    },
    {
      "cell_type": "code",
      "metadata": {
        "id": "X7WkQMIaGa_b"
      },
      "source": [
        "from sklearn.linear_model import LinearRegression\n",
        "from sklearn.ensemble import GradientBoostingRegressor\n",
        "from xgboost import XGBRegressor\n",
        "from lightgbm import LGBMRegressor\n",
        "\n",
        "# Pipelines\n",
        "from sklearn.base import BaseEstimator, TransformerMixin\n",
        "from sklearn.pipeline import make_pipeline, Pipeline, FeatureUnion\n",
        "from sklearn.preprocessing import MinMaxScaler, StandardScaler, OneHotEncoder\n",
        "\n",
        "# CV\n",
        "from sklearn.model_selection import train_test_split\n",
        "from sklearn.model_selection import KFold\n",
        "from sklearn.model_selection import cross_val_score\n",
        "from sklearn.model_selection import GridSearchCV\n",
        "from sklearn.model_selection import ShuffleSplit\n",
        "\n"
      ],
      "execution_count": null,
      "outputs": []
    },
    {
      "cell_type": "code",
      "metadata": {
        "id": "Wf8TLqsHGnze"
      },
      "source": [
        "X_train, X_test,y_train , y_test = train_test_split(df_main.drop(columns=['Value']), df_main.Value, test_size = .2, stratify= df_main.notes, random_state =42, shuffle=True)"
      ],
      "execution_count": null,
      "outputs": []
    },
    {
      "cell_type": "code",
      "metadata": {
        "colab": {
          "base_uri": "https://localhost:8080/"
        },
        "id": "_eiZq_sBHERs",
        "outputId": "a5cfe5a7-4b9d-41fe-9e0a-c6227534da02"
      },
      "source": [
        "print(f\"Train data shape is {X_train.shape}\")\n",
        "print(f\"Test data shape is {X_test.shape}\")"
      ],
      "execution_count": null,
      "outputs": [
        {
          "output_type": "stream",
          "text": [
            "Train data shape is (28761, 22)\n",
            "Test data shape is (7191, 22)\n"
          ],
          "name": "stdout"
        }
      ]
    },
    {
      "cell_type": "code",
      "metadata": {
        "colab": {
          "base_uri": "https://localhost:8080/"
        },
        "id": "iNQWm5wJHFyZ",
        "outputId": "725677c9-18e3-4d3f-d061-e9adf64094b6"
      },
      "source": [
        "df_main.columns"
      ],
      "execution_count": null,
      "outputs": [
        {
          "output_type": "execute_result",
          "data": {
            "text/plain": [
              "Index(['Value', 'day_of_week', 'notes', 'Hour', 'Day', 'Temp_max', 'Temp_avg',\n",
              "       'Temp_min', 'Dew_max', 'Dew_avg', 'Dew_min', 'Hum_max', 'Hum_avg',\n",
              "       'Hum_min', 'Wind_max', 'Wind_avg', 'Wind_min', 'Press_max', 'Press_avg',\n",
              "       'Press_min', 'Precipit', 'year', 'month'],\n",
              "      dtype='object')"
            ]
          },
          "metadata": {
            "tags": []
          },
          "execution_count": 73
        }
      ]
    },
    {
      "cell_type": "code",
      "metadata": {
        "id": "UJG4OEaPHRuI"
      },
      "source": [
        "class DataFrameSelector(BaseEstimator, TransformerMixin):\n",
        "    def __init__(self, attribute_names):\n",
        "        self.attribute_names = attribute_names\n",
        "    def fit(self, X, y=None):\n",
        "        return self\n",
        "    def transform(self, X):\n",
        "        return X[self.attribute_names].values"
      ],
      "execution_count": null,
      "outputs": []
    },
    {
      "cell_type": "code",
      "metadata": {
        "id": "1EwxcsHuHR4R"
      },
      "source": [
        "cat_features = ['day_of_week', 'notes', 'Hour', 'Day', 'year', 'month']\n",
        "num_features = ['Temp_max', 'Temp_avg',\n",
        "       'Temp_min', 'Dew_max', 'Dew_avg', 'Dew_min', 'Hum_max', 'Hum_avg',\n",
        "       'Hum_min', 'Wind_max', 'Wind_avg', 'Wind_min', 'Press_max', 'Press_avg',\n",
        "       'Press_min', 'Precipit']"
      ],
      "execution_count": null,
      "outputs": []
    },
    {
      "cell_type": "code",
      "metadata": {
        "id": "N5X6SsNHHR_k"
      },
      "source": [
        "num_pipeline = Pipeline([\n",
        "        ('selector', DataFrameSelector(num_features)),\n",
        "        ('std_scaler', StandardScaler()),\n",
        "    ])\n",
        "\n",
        "# Create a pipelne for the categorical features.\n",
        "# Entries with missing values or values that don't exist in the range\n",
        "# defined above will be one hot encoded as zeroes.\n",
        "\n",
        "cat_pipeline = Pipeline([\n",
        "        ('selector', DataFrameSelector(cat_features)),\n",
        "        ('ohe', OneHotEncoder(sparse=False, handle_unknown=\"ignore\"))\n",
        "    ])\n",
        "\n",
        "# Union the transformed, scaled numeric and categorical features.\n",
        "data_prep_pipeline = FeatureUnion(transformer_list=[\n",
        "        (\"num_pipeline\", num_pipeline),\n",
        "        (\"cat_pipeline\", cat_pipeline),\n",
        "    ])"
      ],
      "execution_count": null,
      "outputs": []
    },
    {
      "cell_type": "code",
      "metadata": {
        "id": "2N4WBIx6Hcyo"
      },
      "source": [
        "lin_reg = LinearRegression()\n",
        "np.random.seed(42)\n",
        "\n",
        "baseline_pipeline = Pipeline([\n",
        "    ('preperation', data_prep_pipeline),\n",
        "    ('baseline_linreg', lin_reg)\n",
        "])"
      ],
      "execution_count": null,
      "outputs": []
    },
    {
      "cell_type": "code",
      "metadata": {
        "id": "6w5igRrcHc9o"
      },
      "source": [
        "cv15Splits = ShuffleSplit(n_splits=15, test_size=0.3, random_state=0)"
      ],
      "execution_count": null,
      "outputs": []
    },
    {
      "cell_type": "markdown",
      "metadata": {
        "id": "vWvXNJ2WKhdJ"
      },
      "source": [
        "### Baseline linear regression model"
      ]
    },
    {
      "cell_type": "code",
      "metadata": {
        "id": "zIyy59qTHc_c"
      },
      "source": [
        "baseline_pipeline.fit(X_train, y_train)\n",
        "np.random.seed(42)\n",
        "\n",
        "lin_scores = cross_val_score(baseline_pipeline, X_train, y_train, cv=cv15Splits)\n",
        "                               \n",
        "lin_score_train = lin_scores.mean()\n",
        "\n",
        "# Time and score test predictions\n",
        "\n",
        "lin_score_test  = baseline_pipeline.score(X_test, y_test)"
      ],
      "execution_count": null,
      "outputs": []
    },
    {
      "cell_type": "code",
      "metadata": {
        "id": "Y2A4QosqHdEX"
      },
      "source": [
        "results = pd.DataFrame(columns=[\"ExpID\", \n",
        "              \"Train Acc\",\"Test Acc\"])"
      ],
      "execution_count": null,
      "outputs": []
    },
    {
      "cell_type": "code",
      "metadata": {
        "colab": {
          "base_uri": "https://localhost:8080/",
          "height": 77
        },
        "id": "DRDMYjFzHpta",
        "outputId": "90b21498-b456-40f5-8d68-6a9c45dfb385"
      },
      "source": [
        "results.loc[0] = [\"Baseline\", \n",
        "                  np.round(lin_score_train,4), np.round(lin_score_test,4)]\n",
        "\n",
        "pd.set_option('display.max_colwidth', None)\n",
        "results"
      ],
      "execution_count": null,
      "outputs": [
        {
          "output_type": "execute_result",
          "data": {
            "text/html": [
              "<div>\n",
              "<style scoped>\n",
              "    .dataframe tbody tr th:only-of-type {\n",
              "        vertical-align: middle;\n",
              "    }\n",
              "\n",
              "    .dataframe tbody tr th {\n",
              "        vertical-align: top;\n",
              "    }\n",
              "\n",
              "    .dataframe thead th {\n",
              "        text-align: right;\n",
              "    }\n",
              "</style>\n",
              "<table border=\"1\" class=\"dataframe\">\n",
              "  <thead>\n",
              "    <tr style=\"text-align: right;\">\n",
              "      <th></th>\n",
              "      <th>ExpID</th>\n",
              "      <th>Train Acc</th>\n",
              "      <th>Test Acc</th>\n",
              "    </tr>\n",
              "  </thead>\n",
              "  <tbody>\n",
              "    <tr>\n",
              "      <th>0</th>\n",
              "      <td>Baseline</td>\n",
              "      <td>0.443</td>\n",
              "      <td>0.446</td>\n",
              "    </tr>\n",
              "  </tbody>\n",
              "</table>\n",
              "</div>"
            ],
            "text/plain": [
              "      ExpID  Train Acc  Test Acc\n",
              "0  Baseline      0.443     0.446"
            ]
          },
          "metadata": {
            "tags": []
          },
          "execution_count": 86
        }
      ]
    },
    {
      "cell_type": "markdown",
      "metadata": {
        "id": "v25ZcIT2KokQ"
      },
      "source": [
        "### Linear regression with predictors"
      ]
    },
    {
      "cell_type": "code",
      "metadata": {
        "id": "rXPyO0CyKtwu"
      },
      "source": [
        "classifiers = [\n",
        "        ('Linear Regression', LinearRegression(solver='saga', n_jobs=-1, random_state=42), True),\n",
        "        ('Gradient Boosting', GradientBoostingRegressor(warm_start=True, random_state=42), True),\n",
        "        ('XGBoost', XGBRegressor(random_state=42), True),\n",
        "        ('Light GBM', LGBMRegressor(boosting_type='gbdt', random_state=42), True),\n",
        "    ]"
      ],
      "execution_count": null,
      "outputs": []
    },
    {
      "cell_type": "code",
      "metadata": {
        "id": "NoUMz93JNQh9"
      },
      "source": [
        "params_grid = {\n",
        "        'Logistic Regression': {\n",
        "            'penalty': ['none', 'l1', 'l2'],\n",
        "            'tol': [0.0001, 0.00001, 0.0000001], \n",
        "            'C': [10, 1, 0.1, 0.01],\n",
        "        },\n",
        "        'Gradient Boosting':  {\n",
        "            'max_depth': [10, 20, 30],\n",
        "            'max_features': [20, 50, 100],\n",
        "            'validation_fraction': [0.2],\n",
        "            'n_iter_no_change': [10],\n",
        "            'tol': [0.01],\n",
        "            'n_estimators':[20, 50, 100],\n",
        "        },\n",
        "        'XGBoost':  {\n",
        "            'max_depth': [10, 20, 30],\n",
        "            'n_estimators':[20, 50, 100],\n",
        "            'learning_rate': [0.1, 0.01, 0.001],\n",
        "            'objective': ['binary:logistic'],\n",
        "            'eval_metric': ['auc'],\n",
        "        },\n",
        "        'Light GBM':  {\n",
        "            'max_depth': [10, 20, 30],\n",
        "            'num_leaves': [5, 10, 15],\n",
        "            'n_estimators':[20, 50, 100],\n",
        "            'learning_rate': [0.1, 0.01, 0.001],\n",
        "            'reg_alpha': [0.1, 0.01, 0.001],\n",
        "            'reg_lambda': [0.1, 0.01, 0.001],\n",
        "            'metric': ['auc'],\n",
        "            'objective':['binary'],\n",
        "        },\n",
        "    }"
      ],
      "execution_count": null,
      "outputs": []
    },
    {
      "cell_type": "code",
      "metadata": {
        "id": "XUuTTMDNNQr_"
      },
      "source": [
        ""
      ],
      "execution_count": null,
      "outputs": []
    }
  ]
}